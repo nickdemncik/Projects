{
 "cells": [
  {
   "cell_type": "code",
   "execution_count": 24,
   "metadata": {},
   "outputs": [],
   "source": [
    "import pandas as pd\n",
    "import seaborn as sns\n",
    "import plotly.express as px"
   ]
  },
  {
   "cell_type": "markdown",
   "metadata": {},
   "source": [
    "# Рассмотрим датасет Нетфликса, одного из самых популярных видеосервисов в мире. В нем содержиться более 8к фильмов и сериалов, с описанием , кастом, страной, длительностью, и т.д."
   ]
  },
  {
   "cell_type": "code",
   "execution_count": 7,
   "metadata": {},
   "outputs": [],
   "source": [
    "netflix = pd.read_csv('/home/jupyter-n-demidov-20/PYTHON/MY_PROJECTS/1_Netflix.zip', compression='zip', parse_dates=['date_added', 'release_year'])"
   ]
  },
  {
   "cell_type": "code",
   "execution_count": 8,
   "metadata": {},
   "outputs": [
    {
     "data": {
      "text/html": [
       "<div>\n",
       "<style scoped>\n",
       "    .dataframe tbody tr th:only-of-type {\n",
       "        vertical-align: middle;\n",
       "    }\n",
       "\n",
       "    .dataframe tbody tr th {\n",
       "        vertical-align: top;\n",
       "    }\n",
       "\n",
       "    .dataframe thead th {\n",
       "        text-align: right;\n",
       "    }\n",
       "</style>\n",
       "<table border=\"1\" class=\"dataframe\">\n",
       "  <thead>\n",
       "    <tr style=\"text-align: right;\">\n",
       "      <th></th>\n",
       "      <th>show_id</th>\n",
       "      <th>type</th>\n",
       "      <th>title</th>\n",
       "      <th>director</th>\n",
       "      <th>cast</th>\n",
       "      <th>country</th>\n",
       "      <th>date_added</th>\n",
       "      <th>release_year</th>\n",
       "      <th>rating</th>\n",
       "      <th>duration</th>\n",
       "      <th>listed_in</th>\n",
       "      <th>description</th>\n",
       "    </tr>\n",
       "  </thead>\n",
       "  <tbody>\n",
       "    <tr>\n",
       "      <th>0</th>\n",
       "      <td>s1</td>\n",
       "      <td>Movie</td>\n",
       "      <td>Dick Johnson Is Dead</td>\n",
       "      <td>Kirsten Johnson</td>\n",
       "      <td>NaN</td>\n",
       "      <td>United States</td>\n",
       "      <td>2021-09-25</td>\n",
       "      <td>2020-01-01</td>\n",
       "      <td>PG-13</td>\n",
       "      <td>90 min</td>\n",
       "      <td>Documentaries</td>\n",
       "      <td>As her father nears the end of his life, filmm...</td>\n",
       "    </tr>\n",
       "    <tr>\n",
       "      <th>1</th>\n",
       "      <td>s2</td>\n",
       "      <td>TV Show</td>\n",
       "      <td>Blood &amp; Water</td>\n",
       "      <td>NaN</td>\n",
       "      <td>Ama Qamata, Khosi Ngema, Gail Mabalane, Thaban...</td>\n",
       "      <td>South Africa</td>\n",
       "      <td>2021-09-24</td>\n",
       "      <td>2021-01-01</td>\n",
       "      <td>TV-MA</td>\n",
       "      <td>2 Seasons</td>\n",
       "      <td>International TV Shows, TV Dramas, TV Mysteries</td>\n",
       "      <td>After crossing paths at a party, a Cape Town t...</td>\n",
       "    </tr>\n",
       "    <tr>\n",
       "      <th>2</th>\n",
       "      <td>s3</td>\n",
       "      <td>TV Show</td>\n",
       "      <td>Ganglands</td>\n",
       "      <td>Julien Leclercq</td>\n",
       "      <td>Sami Bouajila, Tracy Gotoas, Samuel Jouy, Nabi...</td>\n",
       "      <td>NaN</td>\n",
       "      <td>2021-09-24</td>\n",
       "      <td>2021-01-01</td>\n",
       "      <td>TV-MA</td>\n",
       "      <td>1 Season</td>\n",
       "      <td>Crime TV Shows, International TV Shows, TV Act...</td>\n",
       "      <td>To protect his family from a powerful drug lor...</td>\n",
       "    </tr>\n",
       "    <tr>\n",
       "      <th>3</th>\n",
       "      <td>s4</td>\n",
       "      <td>TV Show</td>\n",
       "      <td>Jailbirds New Orleans</td>\n",
       "      <td>NaN</td>\n",
       "      <td>NaN</td>\n",
       "      <td>NaN</td>\n",
       "      <td>2021-09-24</td>\n",
       "      <td>2021-01-01</td>\n",
       "      <td>TV-MA</td>\n",
       "      <td>1 Season</td>\n",
       "      <td>Docuseries, Reality TV</td>\n",
       "      <td>Feuds, flirtations and toilet talk go down amo...</td>\n",
       "    </tr>\n",
       "    <tr>\n",
       "      <th>4</th>\n",
       "      <td>s5</td>\n",
       "      <td>TV Show</td>\n",
       "      <td>Kota Factory</td>\n",
       "      <td>NaN</td>\n",
       "      <td>Mayur More, Jitendra Kumar, Ranjan Raj, Alam K...</td>\n",
       "      <td>India</td>\n",
       "      <td>2021-09-24</td>\n",
       "      <td>2021-01-01</td>\n",
       "      <td>TV-MA</td>\n",
       "      <td>2 Seasons</td>\n",
       "      <td>International TV Shows, Romantic TV Shows, TV ...</td>\n",
       "      <td>In a city of coaching centers known to train I...</td>\n",
       "    </tr>\n",
       "  </tbody>\n",
       "</table>\n",
       "</div>"
      ],
      "text/plain": [
       "  show_id     type                  title         director  \\\n",
       "0      s1    Movie   Dick Johnson Is Dead  Kirsten Johnson   \n",
       "1      s2  TV Show          Blood & Water              NaN   \n",
       "2      s3  TV Show              Ganglands  Julien Leclercq   \n",
       "3      s4  TV Show  Jailbirds New Orleans              NaN   \n",
       "4      s5  TV Show           Kota Factory              NaN   \n",
       "\n",
       "                                                cast        country  \\\n",
       "0                                                NaN  United States   \n",
       "1  Ama Qamata, Khosi Ngema, Gail Mabalane, Thaban...   South Africa   \n",
       "2  Sami Bouajila, Tracy Gotoas, Samuel Jouy, Nabi...            NaN   \n",
       "3                                                NaN            NaN   \n",
       "4  Mayur More, Jitendra Kumar, Ranjan Raj, Alam K...          India   \n",
       "\n",
       "  date_added release_year rating   duration  \\\n",
       "0 2021-09-25   2020-01-01  PG-13     90 min   \n",
       "1 2021-09-24   2021-01-01  TV-MA  2 Seasons   \n",
       "2 2021-09-24   2021-01-01  TV-MA   1 Season   \n",
       "3 2021-09-24   2021-01-01  TV-MA   1 Season   \n",
       "4 2021-09-24   2021-01-01  TV-MA  2 Seasons   \n",
       "\n",
       "                                           listed_in  \\\n",
       "0                                      Documentaries   \n",
       "1    International TV Shows, TV Dramas, TV Mysteries   \n",
       "2  Crime TV Shows, International TV Shows, TV Act...   \n",
       "3                             Docuseries, Reality TV   \n",
       "4  International TV Shows, Romantic TV Shows, TV ...   \n",
       "\n",
       "                                         description  \n",
       "0  As her father nears the end of his life, filmm...  \n",
       "1  After crossing paths at a party, a Cape Town t...  \n",
       "2  To protect his family from a powerful drug lor...  \n",
       "3  Feuds, flirtations and toilet talk go down amo...  \n",
       "4  In a city of coaching centers known to train I...  "
      ]
     },
     "execution_count": 8,
     "metadata": {},
     "output_type": "execute_result"
    }
   ],
   "source": [
    "netflix.head()"
   ]
  },
  {
   "cell_type": "code",
   "execution_count": 4,
   "metadata": {},
   "outputs": [],
   "source": [
    "# Understanding what content is available in different countries\n",
    "# Identifying similar content by matching text-based features\n",
    "# Network analysis of Actors / Directors and find interesting insights\n",
    "# Does Netflix has more focus on TV Shows than movies in recent years."
   ]
  },
  {
   "cell_type": "markdown",
   "metadata": {},
   "source": [
    "# Давайте разберемся, какой контент доступен в разных странах"
   ]
  },
  {
   "cell_type": "code",
   "execution_count": 9,
   "metadata": {},
   "outputs": [
    {
     "data": {
      "text/plain": [
       "show_id                 object\n",
       "type                    object\n",
       "title                   object\n",
       "director                object\n",
       "cast                    object\n",
       "country                 object\n",
       "date_added      datetime64[ns]\n",
       "release_year    datetime64[ns]\n",
       "rating                  object\n",
       "duration                object\n",
       "listed_in               object\n",
       "description             object\n",
       "dtype: object"
      ]
     },
     "execution_count": 9,
     "metadata": {},
     "output_type": "execute_result"
    }
   ],
   "source": [
    "netflix.dtypes"
   ]
  },
  {
   "cell_type": "code",
   "execution_count": 10,
   "metadata": {},
   "outputs": [
    {
     "data": {
      "text/plain": [
       "(8807, 12)"
      ]
     },
     "execution_count": 10,
     "metadata": {},
     "output_type": "execute_result"
    }
   ],
   "source": [
    "netflix.shape"
   ]
  },
  {
   "cell_type": "code",
   "execution_count": 12,
   "metadata": {},
   "outputs": [
    {
     "data": {
      "text/plain": [
       "show_id            0\n",
       "type               0\n",
       "title              0\n",
       "director        2634\n",
       "cast             825\n",
       "country          831\n",
       "date_added        10\n",
       "release_year       0\n",
       "rating             4\n",
       "duration           3\n",
       "listed_in          0\n",
       "description        0\n",
       "dtype: int64"
      ]
     },
     "execution_count": 12,
     "metadata": {},
     "output_type": "execute_result"
    }
   ],
   "source": [
    "netflix.isna().sum()"
   ]
  },
  {
   "cell_type": "code",
   "execution_count": 21,
   "metadata": {},
   "outputs": [],
   "source": [
    "shows_by_countries = netflix.groupby('country', as_index=False) \\\n",
    "    .agg({'show_id': 'count'}) \\\n",
    "    .sort_values('show_id', ascending=False) \\\n",
    "    .rename(columns={'show_id': 'amount_of_shows'})"
   ]
  },
  {
   "cell_type": "code",
   "execution_count": 23,
   "metadata": {},
   "outputs": [
    {
     "data": {
      "text/html": [
       "<div>\n",
       "<style scoped>\n",
       "    .dataframe tbody tr th:only-of-type {\n",
       "        vertical-align: middle;\n",
       "    }\n",
       "\n",
       "    .dataframe tbody tr th {\n",
       "        vertical-align: top;\n",
       "    }\n",
       "\n",
       "    .dataframe thead th {\n",
       "        text-align: right;\n",
       "    }\n",
       "</style>\n",
       "<table border=\"1\" class=\"dataframe\">\n",
       "  <thead>\n",
       "    <tr style=\"text-align: right;\">\n",
       "      <th></th>\n",
       "      <th>country</th>\n",
       "      <th>amount_of_shows</th>\n",
       "    </tr>\n",
       "  </thead>\n",
       "  <tbody>\n",
       "    <tr>\n",
       "      <th>603</th>\n",
       "      <td>United States</td>\n",
       "      <td>2818</td>\n",
       "    </tr>\n",
       "    <tr>\n",
       "      <th>251</th>\n",
       "      <td>India</td>\n",
       "      <td>972</td>\n",
       "    </tr>\n",
       "    <tr>\n",
       "      <th>506</th>\n",
       "      <td>United Kingdom</td>\n",
       "      <td>419</td>\n",
       "    </tr>\n",
       "    <tr>\n",
       "      <th>319</th>\n",
       "      <td>Japan</td>\n",
       "      <td>245</td>\n",
       "    </tr>\n",
       "    <tr>\n",
       "      <th>435</th>\n",
       "      <td>South Korea</td>\n",
       "      <td>199</td>\n",
       "    </tr>\n",
       "    <tr>\n",
       "      <th>...</th>\n",
       "      <td>...</td>\n",
       "      <td>...</td>\n",
       "    </tr>\n",
       "    <tr>\n",
       "      <th>281</th>\n",
       "      <td>Ireland, Canada, Luxembourg, United States, Un...</td>\n",
       "      <td>1</td>\n",
       "    </tr>\n",
       "    <tr>\n",
       "      <th>282</th>\n",
       "      <td>Ireland, Canada, United Kingdom, United States</td>\n",
       "      <td>1</td>\n",
       "    </tr>\n",
       "    <tr>\n",
       "      <th>283</th>\n",
       "      <td>Ireland, Canada, United States, United Kingdom</td>\n",
       "      <td>1</td>\n",
       "    </tr>\n",
       "    <tr>\n",
       "      <th>284</th>\n",
       "      <td>Ireland, France, Iceland, United States, Mexic...</td>\n",
       "      <td>1</td>\n",
       "    </tr>\n",
       "    <tr>\n",
       "      <th>747</th>\n",
       "      <td>Zimbabwe</td>\n",
       "      <td>1</td>\n",
       "    </tr>\n",
       "  </tbody>\n",
       "</table>\n",
       "<p>748 rows × 2 columns</p>\n",
       "</div>"
      ],
      "text/plain": [
       "                                               country  amount_of_shows\n",
       "603                                      United States             2818\n",
       "251                                              India              972\n",
       "506                                     United Kingdom              419\n",
       "319                                              Japan              245\n",
       "435                                        South Korea              199\n",
       "..                                                 ...              ...\n",
       "281  Ireland, Canada, Luxembourg, United States, Un...                1\n",
       "282     Ireland, Canada, United Kingdom, United States                1\n",
       "283     Ireland, Canada, United States, United Kingdom                1\n",
       "284  Ireland, France, Iceland, United States, Mexic...                1\n",
       "747                                           Zimbabwe                1\n",
       "\n",
       "[748 rows x 2 columns]"
      ]
     },
     "execution_count": 23,
     "metadata": {},
     "output_type": "execute_result"
    }
   ],
   "source": [
    "shows_by_countries"
   ]
  },
  {
   "cell_type": "code",
   "execution_count": 27,
   "metadata": {},
   "outputs": [
    {
     "data": {
      "application/vnd.plotly.v1+json": {
       "config": {
        "plotlyServerURL": "https://plot.ly"
       },
       "data": [
        {
         "alignmentgroup": "True",
         "bingroup": "x",
         "histfunc": "sum",
         "hovertemplate": "country=%{x}<br>sum of amount_of_shows=%{y}<extra></extra>",
         "legendgroup": "",
         "marker": {
          "color": "#636efa"
         },
         "name": "",
         "offsetgroup": "",
         "orientation": "v",
         "showlegend": false,
         "type": "histogram",
         "x": [
          "United States",
          "India",
          "United Kingdom",
          "Japan",
          "South Korea",
          "Canada",
          "Spain",
          "France",
          "Mexico",
          "Egypt",
          "Turkey",
          "Nigeria",
          "Australia",
          "Taiwan",
          "Indonesia",
          "Brazil",
          "United Kingdom, United States",
          "Philippines",
          "United States, Canada",
          "Germany",
          "China",
          "Thailand",
          "Argentina",
          "Hong Kong",
          "United States, United Kingdom",
          "Italy",
          "Canada, United States",
          "Colombia",
          "South Africa",
          "France, Belgium",
          "Poland",
          "Singapore",
          "Malaysia",
          "Netherlands",
          "Pakistan",
          "United States, Germany",
          "United States, France",
          "Hong Kong, China",
          "United States, Japan",
          "Lebanon",
          "Russia",
          "Chile",
          "United Arab Emirates",
          "United States, Mexico",
          "China, Hong Kong",
          "Germany, United States",
          "Australia, United States",
          "Mexico, United States",
          "Denmark",
          "Sweden",
          "Israel",
          "Japan, United States",
          "New Zealand",
          "United States, Australia",
          "Norway",
          "France, United States",
          "Ireland",
          "India, United States",
          "Belgium",
          "United States, India",
          "United Kingdom, Canada, United States",
          "United States, China",
          "Argentina, Spain",
          "Saudi Arabia",
          "Vietnam",
          "United States, France, Japan",
          "South Korea, United States",
          "United Kingdom, France",
          "Kuwait",
          "Romania",
          "United States, Italy",
          "Iceland",
          "India, France",
          "Austria",
          "Italy, France",
          "United States, New Zealand",
          "Spain, France",
          "Israel, United States",
          "United States, Czech Republic",
          "United Kingdom, Germany",
          "South Africa, United States",
          "Mexico, Spain",
          "Hungary",
          "Hong Kong, United States",
          "Canada, United States, United Kingdom",
          "United Kingdom, France, United States",
          "Poland, United States",
          "United States, Bulgaria",
          "United Kingdom, United States, Spain, Germany, Greece, Canada",
          "United States, United Kingdom, Australia",
          "United States, Spain",
          "United Kingdom, Canada",
          "Peru",
          "Italy, United States",
          "United States, United Kingdom, France",
          "United States, Russia",
          "France, Canada",
          "United States, South Africa",
          "United States, Colombia",
          "China, United Kingdom",
          "United States, Chile",
          "Denmark, United States",
          "Bulgaria, United States",
          "United States, Sweden",
          "United States, Hong Kong",
          "France, Egypt",
          "China, Canada, United States",
          "United States, Germany, Canada",
          "Uruguay",
          "Spain, Argentina",
          "Kenya",
          "United Kingdom, Japan, United States",
          "Sweden, United States",
          "Ghana",
          "United States, United Arab Emirates",
          "United Kingdom, United States, Australia",
          "Belgium, France",
          "United States, Ireland",
          "Bangladesh",
          "United Kingdom, Ireland",
          "Spain, Germany",
          "Egypt, France",
          "Thailand, United States",
          "United Kingdom, Belgium",
          "Turkey, United States",
          "Ukraine",
          "India, United Kingdom",
          "United Kingdom, France, Germany, United States",
          "Indonesia, Singapore",
          "India, Soviet Union",
          "United Kingdom, Germany, United States",
          "India, Germany",
          "United Kingdom, India",
          "United Kingdom, India, United States",
          "Hong Kong, China, United States",
          "United Kingdom, Italy",
          "Ireland, United Kingdom",
          "Ireland, United Kingdom, United States",
          "Germany, United Kingdom",
          "United Kingdom, Nigeria",
          "Germany, Czech Republic",
          "France, United Kingdom, United States",
          "United Kingdom, United States, France",
          "United Kingdom,",
          "United Arab Emirates, United States",
          "France, Japan, United States",
          "United States, Argentina",
          "Jordan",
          "Lebanon, Canada, France",
          "United States, China, Hong Kong",
          "Netherlands, Belgium",
          "United States, United Kingdom, Germany",
          "Colombia, Mexico, United States",
          "China, United States",
          "China, Taiwan",
          "United States, Greece",
          "New Zealand, United States",
          "United States, Thailand",
          "United States, Japan, Canada",
          "Spain, United Kingdom",
          "Australia, United Arab Emirates",
          "Australia, United Kingdom",
          "Brazil, France",
          "Norway, Iceland, United States",
          "Canada, United Kingdom",
          "Spain, Mexico",
          "Pakistan, United States",
          "Spain, Italy",
          "Canada, United Kingdom, United States",
          "Canada, United States, France",
          "Belgium, Netherlands",
          "Canada, South Africa",
          "Czech Republic, United States",
          "United States, South Korea, China",
          "Canada, Australia",
          "Argentina, Chile",
          "Singapore, United States",
          "Serbia, United States",
          "United States, Nigeria",
          "Canada, India",
          "United States, South Korea",
          "United States, United Kingdom, Canada",
          "Switzerland",
          "Portugal, Spain",
          "Australia, Canada",
          "United Kingdom, China",
          "United Kingdom, China, United States, India",
          "United Kingdom, Czech Republic, United States, Germany, Bahamas",
          "United Kingdom, Denmark, Canada, Croatia",
          "Spain, Belgium, United States",
          "United Kingdom, Canada, United States, Germany",
          "United Kingdom, Canada, United States, Cayman Islands",
          "Spain, Belgium",
          "United Kingdom, China, United States",
          "United Kingdom, Czech Republic, Germany, United States",
          "Taiwan, China, France, United States",
          "United Kingdom, Egypt, United States",
          "Soviet Union, India",
          "South Africa, China, United States",
          "South Africa, Germany, Netherlands, France",
          "South Africa, Nigeria",
          "United Kingdom, France, Germany, Spain",
          "United Kingdom, France, Germany",
          "United Kingdom, France, Canada, Belgium, United States",
          "United Kingdom, France, Belgium, United States",
          "South Africa, United States, Germany",
          "South Africa, United States, Japan",
          "United Kingdom, France, Belgium, Ireland, United States",
          "South Africa, United States, New Zealand, Canada",
          "United Kingdom, France, Belgium, Canada, United States",
          "United Kingdom, France, Belgium",
          "South Korea, Canada, United States, China",
          "South Korea, China",
          "South Korea, China, United States",
          "South Korea, Czech Republic",
          "South Korea, France",
          "United Kingdom, Canada, Japan",
          "South Korea, Japan",
          "United Kingdom, Finland, Germany, United States, Australia, Japan, France, Ireland",
          "Spain, Canada, United States",
          "United Kingdom, Belgium, Sweden",
          "United Kingdom, Canada, Italy",
          "Spain, Switzerland",
          "Spain, United Kingdom, United States",
          "United Arab Emirates, Jordan",
          "Spain, United States",
          "Sweden, Czech Republic, United Kingdom, Denmark, Netherlands",
          "Sweden, Netherlands",
          "Turkey, South Korea",
          "Turkey, India",
          "Sweden, United Kingdom, Finland",
          "Turkey, France, Germany, Poland",
          "Turkey, Azerbaijan",
          "Switzerland, France",
          "Switzerland, France, Belgium, United States",
          "Switzerland, United Kingdom, Australia",
          "Thailand, China, United States",
          "Thailand, Canada, United States",
          "Switzerland, United Kingdom, United States",
          "Switzerland, United States",
          "Switzerland, Vatican City, Italy, Germany, France",
          "Syria, France, Lebanon, Qatar",
          "Taiwan, China",
          "Taiwan, Malaysia",
          "Spain, Thailand, United States",
          "United Arab Emirates, Jordan, Lebanon, Saudi Arabia",
          "Spain, Colombia",
          "Spain, Portugal",
          "United Kingdom, Canada, France, United States",
          "Spain, Cuba",
          "Spain, France, Canada",
          "Spain, France, Canada, United States",
          "United Kingdom, Brazil, Germany",
          "Taiwan, Hong Kong, United States, China",
          "Spain, France, Italy",
          "Spain, France, United Kingdom, United States",
          "United Kingdom, Australia, United States",
          "Spain, France, United States",
          "United Kingdom, Australia, France, United States",
          "Spain, France, Uruguay",
          "United Kingdom, Australia, France",
          "United Kingdom, Australia, Canada, United States",
          "United Kingdom, Australia",
          "United Arab Emirates, United States, United Kingdom",
          "Spain, Germany, Denmark, United States",
          "United Arab Emirates, United Kingdom, India",
          "Spain, Italy, Argentina",
          "United Arab Emirates, Romania",
          "Spain, Mexico, France",
          ", France, Algeria",
          "United Kingdom, South Korea",
          "United Kingdom, France, Poland, Germany, United States",
          "United States, Indonesia",
          "United States, Hungary, Ireland, Canada",
          "United States, Iceland",
          "United States, India, Bangladesh",
          "United States, India, France",
          "United States, India, South Korea, China",
          "United States, India, United Arab Emirates",
          "United States, India, United Kingdom",
          "United States, Ireland, United Kingdom, India",
          "United States, Mexico, Spain, Malta",
          "United States, Israel, Italy, South Africa",
          "United States, Israel, United Kingdom, Canada",
          "United States, Italy, France, Japan",
          "United States, Italy, Romania, United Kingdom",
          "United States, Italy, United Kingdom, Liechtenstein",
          "United States, Kazakhstan",
          "United States, Malta, France, United Kingdom",
          "United States, Hungary",
          "United States, Greece, United Kingdom",
          "United States, Greece, Brazil",
          "United States, Ghana, Burkina Faso, United Kingdom, Germany, Ethiopia",
          "United States, France, Canada, Belgium",
          "United States, France, Canada, Lebanon, Qatar",
          "United States, France, Canada, Spain",
          "United States, France, Denmark",
          "United States, France, Italy, United Kingdom",
          "United States, France, Mexico",
          "United States, France, Serbia",
          "United States, France, South Korea, Indonesia",
          "United States, France, United Kingdom",
          "United States, France, United Kingdom, Japan",
          "United States, Germany, Australia",
          "United States, Germany, Mexico",
          "United States, Germany, United Kingdom",
          "United States, Germany, United Kingdom, Australia",
          "United States, Germany, United Kingdom, Italy",
          "United States, Mexico, Colombia",
          "United States, Morocco",
          "United States, East Germany, West Germany",
          "Uruguay, Argentina",
          "United States, United Kingdom, Italy",
          "United States, United Kingdom, Japan",
          "United States, United Kingdom, Morocco",
          "United States, United Kingdom, New Zealand",
          "United States, United Kingdom, Spain, South Korea",
          "United States, Uruguay",
          "United States, Venezuela",
          "Uruguay, Argentina, Germany, Spain",
          "United States, Netherlands, Japan, France",
          "Uruguay, Argentina, Spain",
          "Uruguay, Germany",
          "Uruguay, Guatemala",
          "Uruguay, Spain, Mexico",
          "Venezuela",
          "Venezuela, Colombia",
          "West Germany",
          "United States, United Kingdom, India",
          "United States, United Kingdom, Germany, Hungary",
          "United States, United Kingdom, France, Germany, Japan",
          "United States, United Kingdom, Denmark, Sweden",
          "United States, New Zealand, Japan",
          "United States, New Zealand, United Kingdom",
          "United States, Nicaragua",
          "United States, Norway, Canada",
          "United States, Philippines",
          "United States, Poland",
          "United States, Senegal",
          "United States, Singapore",
          "United States, South Korea, Japan",
          "United States, Spain, Germany",
          "United States, Sweden, Norway",
          "United States, Switzerland",
          "United States, Taiwan",
          "United States, United Kingdom, Canada, China",
          "United States, United Kingdom, Canada, Japan",
          "United States, France, Canada",
          "United States, Denmark",
          "United Kingdom, France, Spain, United States",
          "United Kingdom, Russia, United States",
          "United Kingdom, Namibia, South Africa, Zimbabwe, United States",
          "United Kingdom, New Zealand",
          "United Kingdom, Norway, Denmark, Germany, Sweden",
          "United Kingdom, Pakistan",
          "United Kingdom, Poland",
          "United Kingdom, Poland, United States",
          "United Kingdom, Russia",
          "United Kingdom, Singapore",
          "United Kingdom, Ukraine, United States",
          "United Kingdom, South Africa",
          "United Kingdom, South Africa, Australia, United States",
          "United Kingdom, South Africa, France",
          "United Kingdom, Spain",
          "United Kingdom, Spain, Belgium",
          "United Kingdom, Spain, United States",
          "United Kingdom, Spain, United States, Germany",
          "United Kingdom, Malawi",
          "United Kingdom, Lithuania",
          "United Kingdom, Kenya",
          "United Kingdom, Jordan, Qatar, Iran",
          "United Kingdom, France, United States, Belgium",
          "United Kingdom, France, United States, Belgium, Luxembourg, China, Germany",
          "United Kingdom, Germany, Canada",
          "United Kingdom, Germany, Canada, United States",
          "United Kingdom, Germany, France, United States",
          "United Kingdom, Germany, Spain, United States",
          "United Kingdom, Germany, United Arab Emirates, New Zealand",
          "United Kingdom, Germany, United States, France",
          "United Kingdom, Hong Kong",
          "United Kingdom, Hungary, Australia",
          "United Kingdom, India, Sweden",
          "United Kingdom, Ireland, United States",
          "United Kingdom, Israel, Russia",
          "United Kingdom, Italy, Israel, Peru, United States",
          "United Kingdom, Japan",
          "United Kingdom, Thailand",
          "United Kingdom, United States, Canada",
          "United States, Czech Republic, United Kingdom",
          "United States, Canada, Indonesia, United Kingdom, China, Singapore",
          "United States, Brazil, South Korea, Mexico, Japan, Germany",
          "United States, Cambodia",
          "United States, Cambodia, Romania",
          "United States, Canada, Belgium, United Kingdom",
          "United States, Canada, China",
          "United States, Canada, France",
          "United States, Canada, Germany",
          "United States, Canada, Ireland",
          "United Kingdom, United States, Czech Republic",
          "United States, Canada, Japan, Panama",
          "United States, Canada, United Kingdom",
          "United States, Chile, Israel",
          "United States, China, Canada",
          "United States, China, Colombia",
          "United States, China, United Kingdom",
          "United States, Colombia, Mexico",
          "United States, Brazil, Japan, Spain, India",
          "United States, Brazil, India, Uganda, China",
          "United States, Brazil",
          "United States, Botswana",
          "United Kingdom, United States, Dominican Republic",
          "United Kingdom, United States, France, Germany",
          "United Kingdom, United States, France, Italy",
          "United Kingdom, United States, Germany, Denmark, Belgium, Japan",
          "United Kingdom, United States, Ireland",
          "United Kingdom, United States, Japan",
          "United Kingdom, United States, Morocco",
          "United Kingdom, West Germany",
          "United States,",
          "United States, Australia, China",
          "United States, Australia, Mexico",
          "United States, Australia, Samoa, United Kingdom",
          "United States, Australia, South Africa, United Kingdom",
          "United States, Belgium, Canada, France",
          "United States, Bermuda, Ecuador",
          "South Africa, Angola",
          "Norway, Germany",
          "Somalia, Kenya, Sudan, South Africa, United States",
          "France, United Kingdom, India",
          "Denmark, France, Poland",
          "Denmark, France, United States, Sweden",
          "Denmark, Germany, Belgium, United Kingdom, France",
          "Denmark, Germany, Belgium, United Kingdom, France, Sweden",
          "Denmark, Indonesia, Finland, Norway, United Kingdom, Israel, France, United States, Germany, Netherlands",
          "Denmark, Singapore, Canada, United States",
          "Denmark, Spain",
          "Denmark, Sweden, Israel, United States",
          "Denmark, United Kingdom, South Africa, Sweden, Belgium",
          "Denmark, United Kingdom, Sweden",
          "Denmark, Zimbabwe",
          "Egypt, Algeria",
          "Egypt, Austria, United States",
          "Egypt, Denmark, Germany",
          "Egypt, Saudi Arabia",
          "Finland",
          "Finland, France",
          "Denmark, France, Belgium, Italy, Netherlands, United States, United Kingdom",
          "Denmark, China",
          "Denmark, Brazil, France, Portugal, Sweden",
          "Colombia, Mexico",
          "China, Japan",
          "China, Morocco, Hong Kong",
          "China, South Korea, United States",
          "China, Spain, South Korea, United States",
          "China, United States, Australia",
          "China, United States, Canada",
          "China, United States, United Kingdom",
          "Colombia, Peru, United Kingdom",
          "Czech Republic, United Kingdom, United States",
          "Colombia, United States",
          "Croatia",
          "Croatia, Slovenia, Serbia, Montenegro",
          "Cyprus",
          "Czech Republic, France",
          "Czech Republic, Slovakia",
          "Czech Republic, United Kingdom, France",
          "Finland, Germany",
          "Finland, Germany, Belgium",
          "Finland, Sweden, Norway, Latvia, Germany",
          "France, Netherlands, Singapore",
          "France, Japan",
          "France, Lebanon",
          "France, Lebanon, United Kingdom",
          "France, Luxembourg, Canada",
          "France, Luxembourg, United States",
          "France, Malta, United States",
          "France, Morocco",
          "France, Netherlands, South Africa, Finland",
          "France, Iran, United States",
          "France, New Zealand",
          "France, Norway, Lebanon, Belgium",
          "France, Qatar",
          "France, Senegal, Belgium",
          "France, South Korea, Japan",
          "France, South Korea, Japan, United States",
          "France, Switzerland, Spain, United States, United Arab Emirates",
          "France, Israel, Germany, United States, United Kingdom",
          "France, Germany, Switzerland",
          "Finland, United States",
          "France, Belgium, United States",
          "France, Algeria",
          "France, Australia, Germany",
          "France, Belgium, China, United States",
          "France, Belgium, Italy",
          "France, Belgium, Luxembourg, Cambodia,",
          "France, Belgium, Luxembourg, Romania, Canada, United States",
          "France, Belgium, Spain",
          "France, Brazil, Spain, Belgium",
          "France, Germany, Czech Republic, Belgium",
          "France, Canada, Belgium",
          "France, Canada, China, Cambodia",
          "France, Canada, Italy, United States, China",
          "France, Canada, United States",
          "France, Canada, United States, Spain",
          "France, China, Japan, United States",
          "France, Germany",
          "China, India, Nepal",
          "China, Hong Kong, United States",
          "China, Germany, India, United States",
          "Belgium, Ireland, Netherlands, Germany, Afghanistan",
          "Australia, United Kingdom, United States, New Zealand, Italy, France",
          "Austria, Czech Republic",
          "Austria, Germany",
          "Austria, Iraq, United States",
          "Austria, United States",
          "Belarus",
          "Belgium, France, Netherlands",
          "Belgium, United Kingdom",
          "Australia, United Kingdom, Canada",
          "Belgium, United Kingdom, United States",
          "Brazil, France, Germany",
          "Brazil, India, China, United States",
          "Brazil, Netherlands, United States, Colombia, Austria, Germany",
          "Brazil, United Kingdom",
          "Brazil, United States",
          "Bulgaria",
          "Australia, United Kingdom, United Arab Emirates, Canada",
          "Australia, New Zealand, United States",
          "Cambodia",
          "Argentina, Uruguay, Serbia",
          "Argentina, Brazil, France, Poland, Germany, Denmark",
          "Argentina, Chile, Peru",
          "Argentina, France",
          "Argentina, France, United States, Germany, Qatar",
          "Argentina, Italy",
          "Argentina, United States",
          "Argentina, United States, Mexico",
          "Argentina, Uruguay, Spain, France",
          "Australia, New Zealand",
          "Argentina, Venezuela",
          "Australia, Armenia, Japan, Jordan, Mexico, Mongolia, New Zealand, Philippines, South Africa, Sweden, United States, Uruguay",
          "Australia, France",
          "Australia, France, Ireland",
          "Australia, Germany",
          "Australia, India",
          "Australia, Iraq",
          "Bulgaria, United States, Spain, Canada",
          "Cambodia, United States",
          "Chile, United States, France",
          "Canada, United States, Mexico",
          "Canada, Spain, France",
          "Canada, United Kingdom, Netherlands",
          "Canada, United States, Cayman Islands",
          "Canada, United States, Denmark",
          "Canada, United States, Germany",
          "Canada, United States, India, United Kingdom",
          "Canada, United States, Ireland",
          "Canada, United States, United Kingdom, France, Luxembourg",
          "Canada, South Korea, United States",
          "Chile, Argentina",
          "Chile, Argentina, France, Spain, United States",
          "Chile, Brazil",
          "Chile, France",
          "Chile, Italy",
          "Chile, Peru",
          "Chile, Spain, Argentina, Germany",
          "Canada, Spain",
          "Canada, Norway",
          "Cameroon",
          "Canada, Germany, South Africa",
          "Canada, Belgium",
          "Canada, Brazil",
          "Canada, France",
          "Canada, France, Italy, Morocco, United States",
          "Canada, France, United States",
          "Canada, Germany",
          "Canada, Germany, France, United States",
          "Canada, Hungary, United States",
          "Canada, Nigeria, United States",
          "Canada, India, Thailand, United States, United Arab Emirates",
          "Canada, Ireland, United States",
          "Canada, Japan, Netherlands",
          "Canada, Japan, United States",
          "Canada, Luxembourg",
          "Canada, Mexico, Germany, South Africa",
          "Canada, Nigeria",
          "France, United Kingdom",
          "France, United States, Canada",
          "Slovenia, Croatia, Germany, Czech Republic, Qatar",
          "France, United States, Mexico",
          "Mexico, Finland",
          "Mexico, France",
          "Mexico, France, Colombia",
          "Mexico, Netherlands",
          "Mexico, United States, Spain, Colombia",
          "Mozambique",
          "Namibia",
          "Netherlands, Belgium, Germany, Jordan",
          "Netherlands, Belgium, United Kingdom, United States",
          "Netherlands, Denmark, France, Germany",
          "Netherlands, Denmark, South Africa",
          "Netherlands, Germany, Denmark, United Kingdom",
          "Netherlands, Germany, Italy, Canada",
          "Netherlands, United States",
          "New Zealand, Australia, France, United States",
          "New Zealand, United Kingdom",
          "New Zealand, United Kingdom, Australia",
          "Mexico, Brazil",
          "Mexico, Argentina",
          "Mauritius, South Africa",
          "Lebanon, France",
          "Italy, United Kingdom, France",
          "Italy, United States, Argentina",
          "Jamaica, United States",
          "Japan, Canada",
          "Japan, Canada, United States",
          "Kenya, United States",
          "Kuwait, United States",
          "Lebanon, Palestine, Denmark, Qatar",
          "Mauritius",
          "Lebanon, Qatar",
          "Lebanon, Syria",
          "Lebanon, United Arab Emirates",
          "Lebanon, United Arab Emirates, France, Switzerland, Germany",
          "Lebanon, United States, United Arab Emirates",
          "Luxembourg",
          "Malaysia, Singapore, Hong Kong",
          "Nigeria, United Kingdom",
          "Norway, Denmark",
          "Norway, Denmark, Netherlands, Sweden",
          "Russia, United States, China",
          "Romania, Bulgaria, Hungary",
          "Romania, France, Switzerland, Germany",
          "Romania, United Kingdom",
          "Romania, United States",
          "Russia, Poland, Serbia",
          "Russia, Spain",
          "Russia, United States",
          "Saudi Arabia, Netherlands, Germany, Jordan, United Arab Emirates, United States",
          "Portugal, United States",
          "Saudi Arabia, Syria, Egypt, Lebanon, Kuwait",
          "Saudi Arabia, United Arab Emirates",
          "Senegal",
          "Serbia, South Korea, Slovenia",
          "Singapore, France",
          "Singapore, Japan, France",
          "Singapore, Malaysia",
          "Puerto Rico, United States, Colombia",
          "Portugal, France, Poland, United States",
          "Norway, Denmark, Sweden",
          "Paraguay, Argentina",
          ", South Korea",
          "Norway, Germany, Sweden",
          "Norway, Sweden",
          "Norway, United Kingdom, France, Ireland",
          "Norway, United States",
          "Pakistan, Norway, United States",
          "Pakistan, United Arab Emirates",
          "Peru, Germany, Norway",
          "Poland, West Germany",
          "Peru, United States, United Kingdom",
          "Philippines, Canada, United Kingdom, United States",
          "Philippines, Qatar",
          "Philippines, Singapore",
          "Philippines, Singapore, Indonesia",
          "Philippines, United States",
          "Poland,",
          "Italy, United Kingdom",
          "Italy, Turkey",
          "Italy, Switzerland, France, Germany",
          "Hong Kong, Iceland, United States",
          "Germany, United States, Sweden",
          "Germany, United States, United Kingdom, Canada",
          "Ghana, United States",
          "Greece, United States",
          "Guatemala",
          "Hong Kong, Canada, United States",
          "Hong Kong, China, Singapore",
          "Hong Kong, Taiwan",
          "Germany, United States, Hong Kong, Singapore",
          "Hungary, United States",
          "Iceland, Sweden, Belgium",
          "India, Australia",
          "India, Canada",
          "India, Germany, Austria",
          "India, Germany, France",
          "India, Iran",
          "Germany, United States, Italy",
          "Germany, United States, France",
          "India, Malaysia",
          "Germany, China, United Kingdom",
          "France, United States, United Kingdom, Canada",
          "Georgia",
          "Georgia, Germany, France",
          "Germany, Australia",
          "Germany, Australia, France, China",
          "Germany, Belgium",
          "Germany, Canada, United States",
          "Germany, France",
          "Germany, United States, Canada",
          "Germany, France, Luxembourg, United Kingdom, United States",
          "Germany, France, Russia",
          "Germany, France, United States, Canada, United Kingdom",
          "Germany, Italy",
          "Germany, Jordan, Netherlands",
          "Germany, Sri Lanka",
          "Germany, United Kingdom, United States",
          "India, Japan",
          "India, Mexico",
          "Italy, Switzerland, Albania, Poland",
          "Israel, Germany, Poland, Luxembourg, Belgium, France, United States",
          "Ireland, United Kingdom, Greece, France, Netherlands",
          "Ireland, United Kingdom, Italy, United States",
          "Ireland, United States",
          "Ireland, United States, France",
          "Ireland, United States, United Kingdom",
          "Israel, Germany",
          "Israel, Germany, France",
          "Israel, Sweden, Germany, Netherlands",
          "Ireland, Switzerland, United Kingdom, France, United States",
          "Italy, Belgium",
          "Italy, Brazil, Greece",
          "Italy, Canada, France",
          "Italy, France, Switzerland",
          "Italy, Germany",
          "Italy, India",
          "Italy, South Africa, West Germany, Australia, United States",
          "Ireland, United Kingdom, France, Germany",
          "Ireland, South Africa",
          "India, Nepal",
          "Indonesia, South Korea, Singapore",
          "India, Pakistan",
          "India, Switzerland",
          "India, Turkey",
          "India, United Kingdom, Canada, United States",
          "India, United Kingdom, China, Canada, Japan, South Korea, United States",
          "India, United Kingdom, France, Qatar",
          "Indonesia, Netherlands",
          "Indonesia, United Kingdom",
          "Ireland, Luxembourg, Belgium",
          "Indonesia, United States",
          "Iran, France",
          "Ireland, Canada",
          "Ireland, Canada, Luxembourg, United States, United Kingdom, Philippines, India",
          "Ireland, Canada, United Kingdom, United States",
          "Ireland, Canada, United States, United Kingdom",
          "Ireland, France, Iceland, United States, Mexico, Belgium, United Kingdom, Hong Kong",
          "Zimbabwe"
         ],
         "xaxis": "x",
         "y": [
          2818,
          972,
          419,
          245,
          199,
          181,
          145,
          124,
          110,
          106,
          105,
          95,
          87,
          81,
          79,
          77,
          75,
          75,
          73,
          67,
          66,
          61,
          56,
          53,
          47,
          45,
          45,
          35,
          30,
          27,
          24,
          23,
          22,
          19,
          18,
          17,
          16,
          16,
          16,
          15,
          15,
          14,
          14,
          14,
          14,
          13,
          13,
          13,
          13,
          13,
          13,
          12,
          12,
          11,
          11,
          10,
          10,
          10,
          9,
          9,
          8,
          8,
          8,
          8,
          7,
          7,
          6,
          6,
          6,
          6,
          5,
          5,
          5,
          5,
          5,
          5,
          5,
          5,
          5,
          4,
          4,
          4,
          4,
          4,
          4,
          4,
          4,
          4,
          4,
          4,
          4,
          4,
          4,
          4,
          4,
          4,
          3,
          3,
          3,
          3,
          3,
          3,
          3,
          3,
          3,
          3,
          3,
          3,
          3,
          3,
          3,
          3,
          3,
          3,
          3,
          3,
          3,
          3,
          3,
          3,
          3,
          2,
          2,
          2,
          2,
          2,
          2,
          2,
          2,
          2,
          2,
          2,
          2,
          2,
          2,
          2,
          2,
          2,
          2,
          2,
          2,
          2,
          2,
          2,
          2,
          2,
          2,
          2,
          2,
          2,
          2,
          2,
          2,
          2,
          2,
          2,
          2,
          2,
          2,
          2,
          2,
          2,
          2,
          2,
          2,
          2,
          2,
          2,
          2,
          2,
          2,
          2,
          2,
          2,
          2,
          2,
          2,
          2,
          2,
          2,
          2,
          2,
          2,
          2,
          2,
          1,
          1,
          1,
          1,
          1,
          1,
          1,
          1,
          1,
          1,
          1,
          1,
          1,
          1,
          1,
          1,
          1,
          1,
          1,
          1,
          1,
          1,
          1,
          1,
          1,
          1,
          1,
          1,
          1,
          1,
          1,
          1,
          1,
          1,
          1,
          1,
          1,
          1,
          1,
          1,
          1,
          1,
          1,
          1,
          1,
          1,
          1,
          1,
          1,
          1,
          1,
          1,
          1,
          1,
          1,
          1,
          1,
          1,
          1,
          1,
          1,
          1,
          1,
          1,
          1,
          1,
          1,
          1,
          1,
          1,
          1,
          1,
          1,
          1,
          1,
          1,
          1,
          1,
          1,
          1,
          1,
          1,
          1,
          1,
          1,
          1,
          1,
          1,
          1,
          1,
          1,
          1,
          1,
          1,
          1,
          1,
          1,
          1,
          1,
          1,
          1,
          1,
          1,
          1,
          1,
          1,
          1,
          1,
          1,
          1,
          1,
          1,
          1,
          1,
          1,
          1,
          1,
          1,
          1,
          1,
          1,
          1,
          1,
          1,
          1,
          1,
          1,
          1,
          1,
          1,
          1,
          1,
          1,
          1,
          1,
          1,
          1,
          1,
          1,
          1,
          1,
          1,
          1,
          1,
          1,
          1,
          1,
          1,
          1,
          1,
          1,
          1,
          1,
          1,
          1,
          1,
          1,
          1,
          1,
          1,
          1,
          1,
          1,
          1,
          1,
          1,
          1,
          1,
          1,
          1,
          1,
          1,
          1,
          1,
          1,
          1,
          1,
          1,
          1,
          1,
          1,
          1,
          1,
          1,
          1,
          1,
          1,
          1,
          1,
          1,
          1,
          1,
          1,
          1,
          1,
          1,
          1,
          1,
          1,
          1,
          1,
          1,
          1,
          1,
          1,
          1,
          1,
          1,
          1,
          1,
          1,
          1,
          1,
          1,
          1,
          1,
          1,
          1,
          1,
          1,
          1,
          1,
          1,
          1,
          1,
          1,
          1,
          1,
          1,
          1,
          1,
          1,
          1,
          1,
          1,
          1,
          1,
          1,
          1,
          1,
          1,
          1,
          1,
          1,
          1,
          1,
          1,
          1,
          1,
          1,
          1,
          1,
          1,
          1,
          1,
          1,
          1,
          1,
          1,
          1,
          1,
          1,
          1,
          1,
          1,
          1,
          1,
          1,
          1,
          1,
          1,
          1,
          1,
          1,
          1,
          1,
          1,
          1,
          1,
          1,
          1,
          1,
          1,
          1,
          1,
          1,
          1,
          1,
          1,
          1,
          1,
          1,
          1,
          1,
          1,
          1,
          1,
          1,
          1,
          1,
          1,
          1,
          1,
          1,
          1,
          1,
          1,
          1,
          1,
          1,
          1,
          1,
          1,
          1,
          1,
          1,
          1,
          1,
          1,
          1,
          1,
          1,
          1,
          1,
          1,
          1,
          1,
          1,
          1,
          1,
          1,
          1,
          1,
          1,
          1,
          1,
          1,
          1,
          1,
          1,
          1,
          1,
          1,
          1,
          1,
          1,
          1,
          1,
          1,
          1,
          1,
          1,
          1,
          1,
          1,
          1,
          1,
          1,
          1,
          1,
          1,
          1,
          1,
          1,
          1,
          1,
          1,
          1,
          1,
          1,
          1,
          1,
          1,
          1,
          1,
          1,
          1,
          1,
          1,
          1,
          1,
          1,
          1,
          1,
          1,
          1,
          1,
          1,
          1,
          1,
          1,
          1,
          1,
          1,
          1,
          1,
          1,
          1,
          1,
          1,
          1,
          1,
          1,
          1,
          1,
          1,
          1,
          1,
          1,
          1,
          1,
          1,
          1,
          1,
          1,
          1,
          1,
          1,
          1,
          1,
          1,
          1,
          1,
          1,
          1,
          1,
          1,
          1,
          1,
          1,
          1,
          1,
          1,
          1,
          1,
          1,
          1,
          1,
          1,
          1,
          1,
          1,
          1,
          1,
          1,
          1,
          1,
          1,
          1,
          1,
          1,
          1,
          1,
          1,
          1,
          1,
          1,
          1,
          1,
          1,
          1,
          1,
          1,
          1,
          1,
          1,
          1,
          1,
          1,
          1,
          1,
          1,
          1,
          1,
          1,
          1,
          1,
          1,
          1,
          1,
          1,
          1,
          1,
          1,
          1,
          1,
          1,
          1,
          1,
          1,
          1,
          1,
          1,
          1,
          1,
          1,
          1,
          1,
          1,
          1,
          1,
          1,
          1,
          1,
          1,
          1,
          1,
          1,
          1,
          1,
          1,
          1,
          1,
          1,
          1,
          1,
          1,
          1,
          1,
          1,
          1,
          1,
          1,
          1,
          1,
          1,
          1,
          1,
          1,
          1,
          1,
          1,
          1,
          1,
          1,
          1,
          1,
          1,
          1,
          1,
          1,
          1,
          1,
          1,
          1,
          1,
          1,
          1,
          1,
          1,
          1,
          1,
          1,
          1,
          1,
          1,
          1,
          1,
          1,
          1,
          1,
          1,
          1
         ],
         "yaxis": "y"
        }
       ],
       "layout": {
        "barmode": "relative",
        "legend": {
         "tracegroupgap": 0
        },
        "margin": {
         "t": 60
        },
        "template": {
         "data": {
          "bar": [
           {
            "error_x": {
             "color": "#2a3f5f"
            },
            "error_y": {
             "color": "#2a3f5f"
            },
            "marker": {
             "line": {
              "color": "#E5ECF6",
              "width": 0.5
             }
            },
            "type": "bar"
           }
          ],
          "barpolar": [
           {
            "marker": {
             "line": {
              "color": "#E5ECF6",
              "width": 0.5
             }
            },
            "type": "barpolar"
           }
          ],
          "carpet": [
           {
            "aaxis": {
             "endlinecolor": "#2a3f5f",
             "gridcolor": "white",
             "linecolor": "white",
             "minorgridcolor": "white",
             "startlinecolor": "#2a3f5f"
            },
            "baxis": {
             "endlinecolor": "#2a3f5f",
             "gridcolor": "white",
             "linecolor": "white",
             "minorgridcolor": "white",
             "startlinecolor": "#2a3f5f"
            },
            "type": "carpet"
           }
          ],
          "choropleth": [
           {
            "colorbar": {
             "outlinewidth": 0,
             "ticks": ""
            },
            "type": "choropleth"
           }
          ],
          "contour": [
           {
            "colorbar": {
             "outlinewidth": 0,
             "ticks": ""
            },
            "colorscale": [
             [
              0,
              "#0d0887"
             ],
             [
              0.1111111111111111,
              "#46039f"
             ],
             [
              0.2222222222222222,
              "#7201a8"
             ],
             [
              0.3333333333333333,
              "#9c179e"
             ],
             [
              0.4444444444444444,
              "#bd3786"
             ],
             [
              0.5555555555555556,
              "#d8576b"
             ],
             [
              0.6666666666666666,
              "#ed7953"
             ],
             [
              0.7777777777777778,
              "#fb9f3a"
             ],
             [
              0.8888888888888888,
              "#fdca26"
             ],
             [
              1,
              "#f0f921"
             ]
            ],
            "type": "contour"
           }
          ],
          "contourcarpet": [
           {
            "colorbar": {
             "outlinewidth": 0,
             "ticks": ""
            },
            "type": "contourcarpet"
           }
          ],
          "heatmap": [
           {
            "colorbar": {
             "outlinewidth": 0,
             "ticks": ""
            },
            "colorscale": [
             [
              0,
              "#0d0887"
             ],
             [
              0.1111111111111111,
              "#46039f"
             ],
             [
              0.2222222222222222,
              "#7201a8"
             ],
             [
              0.3333333333333333,
              "#9c179e"
             ],
             [
              0.4444444444444444,
              "#bd3786"
             ],
             [
              0.5555555555555556,
              "#d8576b"
             ],
             [
              0.6666666666666666,
              "#ed7953"
             ],
             [
              0.7777777777777778,
              "#fb9f3a"
             ],
             [
              0.8888888888888888,
              "#fdca26"
             ],
             [
              1,
              "#f0f921"
             ]
            ],
            "type": "heatmap"
           }
          ],
          "heatmapgl": [
           {
            "colorbar": {
             "outlinewidth": 0,
             "ticks": ""
            },
            "colorscale": [
             [
              0,
              "#0d0887"
             ],
             [
              0.1111111111111111,
              "#46039f"
             ],
             [
              0.2222222222222222,
              "#7201a8"
             ],
             [
              0.3333333333333333,
              "#9c179e"
             ],
             [
              0.4444444444444444,
              "#bd3786"
             ],
             [
              0.5555555555555556,
              "#d8576b"
             ],
             [
              0.6666666666666666,
              "#ed7953"
             ],
             [
              0.7777777777777778,
              "#fb9f3a"
             ],
             [
              0.8888888888888888,
              "#fdca26"
             ],
             [
              1,
              "#f0f921"
             ]
            ],
            "type": "heatmapgl"
           }
          ],
          "histogram": [
           {
            "marker": {
             "colorbar": {
              "outlinewidth": 0,
              "ticks": ""
             }
            },
            "type": "histogram"
           }
          ],
          "histogram2d": [
           {
            "colorbar": {
             "outlinewidth": 0,
             "ticks": ""
            },
            "colorscale": [
             [
              0,
              "#0d0887"
             ],
             [
              0.1111111111111111,
              "#46039f"
             ],
             [
              0.2222222222222222,
              "#7201a8"
             ],
             [
              0.3333333333333333,
              "#9c179e"
             ],
             [
              0.4444444444444444,
              "#bd3786"
             ],
             [
              0.5555555555555556,
              "#d8576b"
             ],
             [
              0.6666666666666666,
              "#ed7953"
             ],
             [
              0.7777777777777778,
              "#fb9f3a"
             ],
             [
              0.8888888888888888,
              "#fdca26"
             ],
             [
              1,
              "#f0f921"
             ]
            ],
            "type": "histogram2d"
           }
          ],
          "histogram2dcontour": [
           {
            "colorbar": {
             "outlinewidth": 0,
             "ticks": ""
            },
            "colorscale": [
             [
              0,
              "#0d0887"
             ],
             [
              0.1111111111111111,
              "#46039f"
             ],
             [
              0.2222222222222222,
              "#7201a8"
             ],
             [
              0.3333333333333333,
              "#9c179e"
             ],
             [
              0.4444444444444444,
              "#bd3786"
             ],
             [
              0.5555555555555556,
              "#d8576b"
             ],
             [
              0.6666666666666666,
              "#ed7953"
             ],
             [
              0.7777777777777778,
              "#fb9f3a"
             ],
             [
              0.8888888888888888,
              "#fdca26"
             ],
             [
              1,
              "#f0f921"
             ]
            ],
            "type": "histogram2dcontour"
           }
          ],
          "mesh3d": [
           {
            "colorbar": {
             "outlinewidth": 0,
             "ticks": ""
            },
            "type": "mesh3d"
           }
          ],
          "parcoords": [
           {
            "line": {
             "colorbar": {
              "outlinewidth": 0,
              "ticks": ""
             }
            },
            "type": "parcoords"
           }
          ],
          "pie": [
           {
            "automargin": true,
            "type": "pie"
           }
          ],
          "scatter": [
           {
            "marker": {
             "colorbar": {
              "outlinewidth": 0,
              "ticks": ""
             }
            },
            "type": "scatter"
           }
          ],
          "scatter3d": [
           {
            "line": {
             "colorbar": {
              "outlinewidth": 0,
              "ticks": ""
             }
            },
            "marker": {
             "colorbar": {
              "outlinewidth": 0,
              "ticks": ""
             }
            },
            "type": "scatter3d"
           }
          ],
          "scattercarpet": [
           {
            "marker": {
             "colorbar": {
              "outlinewidth": 0,
              "ticks": ""
             }
            },
            "type": "scattercarpet"
           }
          ],
          "scattergeo": [
           {
            "marker": {
             "colorbar": {
              "outlinewidth": 0,
              "ticks": ""
             }
            },
            "type": "scattergeo"
           }
          ],
          "scattergl": [
           {
            "marker": {
             "colorbar": {
              "outlinewidth": 0,
              "ticks": ""
             }
            },
            "type": "scattergl"
           }
          ],
          "scattermapbox": [
           {
            "marker": {
             "colorbar": {
              "outlinewidth": 0,
              "ticks": ""
             }
            },
            "type": "scattermapbox"
           }
          ],
          "scatterpolar": [
           {
            "marker": {
             "colorbar": {
              "outlinewidth": 0,
              "ticks": ""
             }
            },
            "type": "scatterpolar"
           }
          ],
          "scatterpolargl": [
           {
            "marker": {
             "colorbar": {
              "outlinewidth": 0,
              "ticks": ""
             }
            },
            "type": "scatterpolargl"
           }
          ],
          "scatterternary": [
           {
            "marker": {
             "colorbar": {
              "outlinewidth": 0,
              "ticks": ""
             }
            },
            "type": "scatterternary"
           }
          ],
          "surface": [
           {
            "colorbar": {
             "outlinewidth": 0,
             "ticks": ""
            },
            "colorscale": [
             [
              0,
              "#0d0887"
             ],
             [
              0.1111111111111111,
              "#46039f"
             ],
             [
              0.2222222222222222,
              "#7201a8"
             ],
             [
              0.3333333333333333,
              "#9c179e"
             ],
             [
              0.4444444444444444,
              "#bd3786"
             ],
             [
              0.5555555555555556,
              "#d8576b"
             ],
             [
              0.6666666666666666,
              "#ed7953"
             ],
             [
              0.7777777777777778,
              "#fb9f3a"
             ],
             [
              0.8888888888888888,
              "#fdca26"
             ],
             [
              1,
              "#f0f921"
             ]
            ],
            "type": "surface"
           }
          ],
          "table": [
           {
            "cells": {
             "fill": {
              "color": "#EBF0F8"
             },
             "line": {
              "color": "white"
             }
            },
            "header": {
             "fill": {
              "color": "#C8D4E3"
             },
             "line": {
              "color": "white"
             }
            },
            "type": "table"
           }
          ]
         },
         "layout": {
          "annotationdefaults": {
           "arrowcolor": "#2a3f5f",
           "arrowhead": 0,
           "arrowwidth": 1
          },
          "coloraxis": {
           "colorbar": {
            "outlinewidth": 0,
            "ticks": ""
           }
          },
          "colorscale": {
           "diverging": [
            [
             0,
             "#8e0152"
            ],
            [
             0.1,
             "#c51b7d"
            ],
            [
             0.2,
             "#de77ae"
            ],
            [
             0.3,
             "#f1b6da"
            ],
            [
             0.4,
             "#fde0ef"
            ],
            [
             0.5,
             "#f7f7f7"
            ],
            [
             0.6,
             "#e6f5d0"
            ],
            [
             0.7,
             "#b8e186"
            ],
            [
             0.8,
             "#7fbc41"
            ],
            [
             0.9,
             "#4d9221"
            ],
            [
             1,
             "#276419"
            ]
           ],
           "sequential": [
            [
             0,
             "#0d0887"
            ],
            [
             0.1111111111111111,
             "#46039f"
            ],
            [
             0.2222222222222222,
             "#7201a8"
            ],
            [
             0.3333333333333333,
             "#9c179e"
            ],
            [
             0.4444444444444444,
             "#bd3786"
            ],
            [
             0.5555555555555556,
             "#d8576b"
            ],
            [
             0.6666666666666666,
             "#ed7953"
            ],
            [
             0.7777777777777778,
             "#fb9f3a"
            ],
            [
             0.8888888888888888,
             "#fdca26"
            ],
            [
             1,
             "#f0f921"
            ]
           ],
           "sequentialminus": [
            [
             0,
             "#0d0887"
            ],
            [
             0.1111111111111111,
             "#46039f"
            ],
            [
             0.2222222222222222,
             "#7201a8"
            ],
            [
             0.3333333333333333,
             "#9c179e"
            ],
            [
             0.4444444444444444,
             "#bd3786"
            ],
            [
             0.5555555555555556,
             "#d8576b"
            ],
            [
             0.6666666666666666,
             "#ed7953"
            ],
            [
             0.7777777777777778,
             "#fb9f3a"
            ],
            [
             0.8888888888888888,
             "#fdca26"
            ],
            [
             1,
             "#f0f921"
            ]
           ]
          },
          "colorway": [
           "#636efa",
           "#EF553B",
           "#00cc96",
           "#ab63fa",
           "#FFA15A",
           "#19d3f3",
           "#FF6692",
           "#B6E880",
           "#FF97FF",
           "#FECB52"
          ],
          "font": {
           "color": "#2a3f5f"
          },
          "geo": {
           "bgcolor": "white",
           "lakecolor": "white",
           "landcolor": "#E5ECF6",
           "showlakes": true,
           "showland": true,
           "subunitcolor": "white"
          },
          "hoverlabel": {
           "align": "left"
          },
          "hovermode": "closest",
          "mapbox": {
           "style": "light"
          },
          "paper_bgcolor": "white",
          "plot_bgcolor": "#E5ECF6",
          "polar": {
           "angularaxis": {
            "gridcolor": "white",
            "linecolor": "white",
            "ticks": ""
           },
           "bgcolor": "#E5ECF6",
           "radialaxis": {
            "gridcolor": "white",
            "linecolor": "white",
            "ticks": ""
           }
          },
          "scene": {
           "xaxis": {
            "backgroundcolor": "#E5ECF6",
            "gridcolor": "white",
            "gridwidth": 2,
            "linecolor": "white",
            "showbackground": true,
            "ticks": "",
            "zerolinecolor": "white"
           },
           "yaxis": {
            "backgroundcolor": "#E5ECF6",
            "gridcolor": "white",
            "gridwidth": 2,
            "linecolor": "white",
            "showbackground": true,
            "ticks": "",
            "zerolinecolor": "white"
           },
           "zaxis": {
            "backgroundcolor": "#E5ECF6",
            "gridcolor": "white",
            "gridwidth": 2,
            "linecolor": "white",
            "showbackground": true,
            "ticks": "",
            "zerolinecolor": "white"
           }
          },
          "shapedefaults": {
           "line": {
            "color": "#2a3f5f"
           }
          },
          "ternary": {
           "aaxis": {
            "gridcolor": "white",
            "linecolor": "white",
            "ticks": ""
           },
           "baxis": {
            "gridcolor": "white",
            "linecolor": "white",
            "ticks": ""
           },
           "bgcolor": "#E5ECF6",
           "caxis": {
            "gridcolor": "white",
            "linecolor": "white",
            "ticks": ""
           }
          },
          "title": {
           "x": 0.05
          },
          "xaxis": {
           "automargin": true,
           "gridcolor": "white",
           "linecolor": "white",
           "ticks": "",
           "title": {
            "standoff": 15
           },
           "zerolinecolor": "white",
           "zerolinewidth": 2
          },
          "yaxis": {
           "automargin": true,
           "gridcolor": "white",
           "linecolor": "white",
           "ticks": "",
           "title": {
            "standoff": 15
           },
           "zerolinecolor": "white",
           "zerolinewidth": 2
          }
         }
        },
        "xaxis": {
         "anchor": "y",
         "domain": [
          0,
          1
         ],
         "title": {
          "text": "country"
         }
        },
        "yaxis": {
         "anchor": "x",
         "domain": [
          0,
          1
         ],
         "title": {
          "text": "sum of amount_of_shows"
         }
        }
       }
      },
      "text/html": [
       "<div>\n",
       "        \n",
       "        \n",
       "            <div id=\"9f24f34b-89e6-4697-aa72-9b5d74a031b5\" class=\"plotly-graph-div\" style=\"height:525px; width:100%;\"></div>\n",
       "            <script type=\"text/javascript\">\n",
       "                require([\"plotly\"], function(Plotly) {\n",
       "                    window.PLOTLYENV=window.PLOTLYENV || {};\n",
       "                    \n",
       "                if (document.getElementById(\"9f24f34b-89e6-4697-aa72-9b5d74a031b5\")) {\n",
       "                    Plotly.newPlot(\n",
       "                        '9f24f34b-89e6-4697-aa72-9b5d74a031b5',\n",
       "                        [{\"alignmentgroup\": \"True\", \"bingroup\": \"x\", \"histfunc\": \"sum\", \"hovertemplate\": \"country=%{x}<br>sum of amount_of_shows=%{y}<extra></extra>\", \"legendgroup\": \"\", \"marker\": {\"color\": \"#636efa\"}, \"name\": \"\", \"offsetgroup\": \"\", \"orientation\": \"v\", \"showlegend\": false, \"type\": \"histogram\", \"x\": [\"United States\", \"India\", \"United Kingdom\", \"Japan\", \"South Korea\", \"Canada\", \"Spain\", \"France\", \"Mexico\", \"Egypt\", \"Turkey\", \"Nigeria\", \"Australia\", \"Taiwan\", \"Indonesia\", \"Brazil\", \"United Kingdom, United States\", \"Philippines\", \"United States, Canada\", \"Germany\", \"China\", \"Thailand\", \"Argentina\", \"Hong Kong\", \"United States, United Kingdom\", \"Italy\", \"Canada, United States\", \"Colombia\", \"South Africa\", \"France, Belgium\", \"Poland\", \"Singapore\", \"Malaysia\", \"Netherlands\", \"Pakistan\", \"United States, Germany\", \"United States, France\", \"Hong Kong, China\", \"United States, Japan\", \"Lebanon\", \"Russia\", \"Chile\", \"United Arab Emirates\", \"United States, Mexico\", \"China, Hong Kong\", \"Germany, United States\", \"Australia, United States\", \"Mexico, United States\", \"Denmark\", \"Sweden\", \"Israel\", \"Japan, United States\", \"New Zealand\", \"United States, Australia\", \"Norway\", \"France, United States\", \"Ireland\", \"India, United States\", \"Belgium\", \"United States, India\", \"United Kingdom, Canada, United States\", \"United States, China\", \"Argentina, Spain\", \"Saudi Arabia\", \"Vietnam\", \"United States, France, Japan\", \"South Korea, United States\", \"United Kingdom, France\", \"Kuwait\", \"Romania\", \"United States, Italy\", \"Iceland\", \"India, France\", \"Austria\", \"Italy, France\", \"United States, New Zealand\", \"Spain, France\", \"Israel, United States\", \"United States, Czech Republic\", \"United Kingdom, Germany\", \"South Africa, United States\", \"Mexico, Spain\", \"Hungary\", \"Hong Kong, United States\", \"Canada, United States, United Kingdom\", \"United Kingdom, France, United States\", \"Poland, United States\", \"United States, Bulgaria\", \"United Kingdom, United States, Spain, Germany, Greece, Canada\", \"United States, United Kingdom, Australia\", \"United States, Spain\", \"United Kingdom, Canada\", \"Peru\", \"Italy, United States\", \"United States, United Kingdom, France\", \"United States, Russia\", \"France, Canada\", \"United States, South Africa\", \"United States, Colombia\", \"China, United Kingdom\", \"United States, Chile\", \"Denmark, United States\", \"Bulgaria, United States\", \"United States, Sweden\", \"United States, Hong Kong\", \"France, Egypt\", \"China, Canada, United States\", \"United States, Germany, Canada\", \"Uruguay\", \"Spain, Argentina\", \"Kenya\", \"United Kingdom, Japan, United States\", \"Sweden, United States\", \"Ghana\", \"United States, United Arab Emirates\", \"United Kingdom, United States, Australia\", \"Belgium, France\", \"United States, Ireland\", \"Bangladesh\", \"United Kingdom, Ireland\", \"Spain, Germany\", \"Egypt, France\", \"Thailand, United States\", \"United Kingdom, Belgium\", \"Turkey, United States\", \"Ukraine\", \"India, United Kingdom\", \"United Kingdom, France, Germany, United States\", \"Indonesia, Singapore\", \"India, Soviet Union\", \"United Kingdom, Germany, United States\", \"India, Germany\", \"United Kingdom, India\", \"United Kingdom, India, United States\", \"Hong Kong, China, United States\", \"United Kingdom, Italy\", \"Ireland, United Kingdom\", \"Ireland, United Kingdom, United States\", \"Germany, United Kingdom\", \"United Kingdom, Nigeria\", \"Germany, Czech Republic\", \"France, United Kingdom, United States\", \"United Kingdom, United States, France\", \"United Kingdom,\", \"United Arab Emirates, United States\", \"France, Japan, United States\", \"United States, Argentina\", \"Jordan\", \"Lebanon, Canada, France\", \"United States, China, Hong Kong\", \"Netherlands, Belgium\", \"United States, United Kingdom, Germany\", \"Colombia, Mexico, United States\", \"China, United States\", \"China, Taiwan\", \"United States, Greece\", \"New Zealand, United States\", \"United States, Thailand\", \"United States, Japan, Canada\", \"Spain, United Kingdom\", \"Australia, United Arab Emirates\", \"Australia, United Kingdom\", \"Brazil, France\", \"Norway, Iceland, United States\", \"Canada, United Kingdom\", \"Spain, Mexico\", \"Pakistan, United States\", \"Spain, Italy\", \"Canada, United Kingdom, United States\", \"Canada, United States, France\", \"Belgium, Netherlands\", \"Canada, South Africa\", \"Czech Republic, United States\", \"United States, South Korea, China\", \"Canada, Australia\", \"Argentina, Chile\", \"Singapore, United States\", \"Serbia, United States\", \"United States, Nigeria\", \"Canada, India\", \"United States, South Korea\", \"United States, United Kingdom, Canada\", \"Switzerland\", \"Portugal, Spain\", \"Australia, Canada\", \"United Kingdom, China\", \"United Kingdom, China, United States, India\", \"United Kingdom, Czech Republic, United States, Germany, Bahamas\", \"United Kingdom, Denmark, Canada, Croatia\", \"Spain, Belgium, United States\", \"United Kingdom, Canada, United States, Germany\", \"United Kingdom, Canada, United States, Cayman Islands\", \"Spain, Belgium\", \"United Kingdom, China, United States\", \"United Kingdom, Czech Republic, Germany, United States\", \"Taiwan, China, France, United States\", \"United Kingdom, Egypt, United States\", \"Soviet Union, India\", \"South Africa, China, United States\", \"South Africa, Germany, Netherlands, France\", \"South Africa, Nigeria\", \"United Kingdom, France, Germany, Spain\", \"United Kingdom, France, Germany\", \"United Kingdom, France, Canada, Belgium, United States\", \"United Kingdom, France, Belgium, United States\", \"South Africa, United States, Germany\", \"South Africa, United States, Japan\", \"United Kingdom, France, Belgium, Ireland, United States\", \"South Africa, United States, New Zealand, Canada\", \"United Kingdom, France, Belgium, Canada, United States\", \"United Kingdom, France, Belgium\", \"South Korea, Canada, United States, China\", \"South Korea, China\", \"South Korea, China, United States\", \"South Korea, Czech Republic\", \"South Korea, France\", \"United Kingdom, Canada, Japan\", \"South Korea, Japan\", \"United Kingdom, Finland, Germany, United States, Australia, Japan, France, Ireland\", \"Spain, Canada, United States\", \"United Kingdom, Belgium, Sweden\", \"United Kingdom, Canada, Italy\", \"Spain, Switzerland\", \"Spain, United Kingdom, United States\", \"United Arab Emirates, Jordan\", \"Spain, United States\", \"Sweden, Czech Republic, United Kingdom, Denmark, Netherlands\", \"Sweden, Netherlands\", \"Turkey, South Korea\", \"Turkey, India\", \"Sweden, United Kingdom, Finland\", \"Turkey, France, Germany, Poland\", \"Turkey, Azerbaijan\", \"Switzerland, France\", \"Switzerland, France, Belgium, United States\", \"Switzerland, United Kingdom, Australia\", \"Thailand, China, United States\", \"Thailand, Canada, United States\", \"Switzerland, United Kingdom, United States\", \"Switzerland, United States\", \"Switzerland, Vatican City, Italy, Germany, France\", \"Syria, France, Lebanon, Qatar\", \"Taiwan, China\", \"Taiwan, Malaysia\", \"Spain, Thailand, United States\", \"United Arab Emirates, Jordan, Lebanon, Saudi Arabia\", \"Spain, Colombia\", \"Spain, Portugal\", \"United Kingdom, Canada, France, United States\", \"Spain, Cuba\", \"Spain, France, Canada\", \"Spain, France, Canada, United States\", \"United Kingdom, Brazil, Germany\", \"Taiwan, Hong Kong, United States, China\", \"Spain, France, Italy\", \"Spain, France, United Kingdom, United States\", \"United Kingdom, Australia, United States\", \"Spain, France, United States\", \"United Kingdom, Australia, France, United States\", \"Spain, France, Uruguay\", \"United Kingdom, Australia, France\", \"United Kingdom, Australia, Canada, United States\", \"United Kingdom, Australia\", \"United Arab Emirates, United States, United Kingdom\", \"Spain, Germany, Denmark, United States\", \"United Arab Emirates, United Kingdom, India\", \"Spain, Italy, Argentina\", \"United Arab Emirates, Romania\", \"Spain, Mexico, France\", \", France, Algeria\", \"United Kingdom, South Korea\", \"United Kingdom, France, Poland, Germany, United States\", \"United States, Indonesia\", \"United States, Hungary, Ireland, Canada\", \"United States, Iceland\", \"United States, India, Bangladesh\", \"United States, India, France\", \"United States, India, South Korea, China\", \"United States, India, United Arab Emirates\", \"United States, India, United Kingdom\", \"United States, Ireland, United Kingdom, India\", \"United States, Mexico, Spain, Malta\", \"United States, Israel, Italy, South Africa\", \"United States, Israel, United Kingdom, Canada\", \"United States, Italy, France, Japan\", \"United States, Italy, Romania, United Kingdom\", \"United States, Italy, United Kingdom, Liechtenstein\", \"United States, Kazakhstan\", \"United States, Malta, France, United Kingdom\", \"United States, Hungary\", \"United States, Greece, United Kingdom\", \"United States, Greece, Brazil\", \"United States, Ghana, Burkina Faso, United Kingdom, Germany, Ethiopia\", \"United States, France, Canada, Belgium\", \"United States, France, Canada, Lebanon, Qatar\", \"United States, France, Canada, Spain\", \"United States, France, Denmark\", \"United States, France, Italy, United Kingdom\", \"United States, France, Mexico\", \"United States, France, Serbia\", \"United States, France, South Korea, Indonesia\", \"United States, France, United Kingdom\", \"United States, France, United Kingdom, Japan\", \"United States, Germany, Australia\", \"United States, Germany, Mexico\", \"United States, Germany, United Kingdom\", \"United States, Germany, United Kingdom, Australia\", \"United States, Germany, United Kingdom, Italy\", \"United States, Mexico, Colombia\", \"United States, Morocco\", \"United States, East Germany, West Germany\", \"Uruguay, Argentina\", \"United States, United Kingdom, Italy\", \"United States, United Kingdom, Japan\", \"United States, United Kingdom, Morocco\", \"United States, United Kingdom, New Zealand\", \"United States, United Kingdom, Spain, South Korea\", \"United States, Uruguay\", \"United States, Venezuela\", \"Uruguay, Argentina, Germany, Spain\", \"United States, Netherlands, Japan, France\", \"Uruguay, Argentina, Spain\", \"Uruguay, Germany\", \"Uruguay, Guatemala\", \"Uruguay, Spain, Mexico\", \"Venezuela\", \"Venezuela, Colombia\", \"West Germany\", \"United States, United Kingdom, India\", \"United States, United Kingdom, Germany, Hungary\", \"United States, United Kingdom, France, Germany, Japan\", \"United States, United Kingdom, Denmark, Sweden\", \"United States, New Zealand, Japan\", \"United States, New Zealand, United Kingdom\", \"United States, Nicaragua\", \"United States, Norway, Canada\", \"United States, Philippines\", \"United States, Poland\", \"United States, Senegal\", \"United States, Singapore\", \"United States, South Korea, Japan\", \"United States, Spain, Germany\", \"United States, Sweden, Norway\", \"United States, Switzerland\", \"United States, Taiwan\", \"United States, United Kingdom, Canada, China\", \"United States, United Kingdom, Canada, Japan\", \"United States, France, Canada\", \"United States, Denmark\", \"United Kingdom, France, Spain, United States\", \"United Kingdom, Russia, United States\", \"United Kingdom, Namibia, South Africa, Zimbabwe, United States\", \"United Kingdom, New Zealand\", \"United Kingdom, Norway, Denmark, Germany, Sweden\", \"United Kingdom, Pakistan\", \"United Kingdom, Poland\", \"United Kingdom, Poland, United States\", \"United Kingdom, Russia\", \"United Kingdom, Singapore\", \"United Kingdom, Ukraine, United States\", \"United Kingdom, South Africa\", \"United Kingdom, South Africa, Australia, United States\", \"United Kingdom, South Africa, France\", \"United Kingdom, Spain\", \"United Kingdom, Spain, Belgium\", \"United Kingdom, Spain, United States\", \"United Kingdom, Spain, United States, Germany\", \"United Kingdom, Malawi\", \"United Kingdom, Lithuania\", \"United Kingdom, Kenya\", \"United Kingdom, Jordan, Qatar, Iran\", \"United Kingdom, France, United States, Belgium\", \"United Kingdom, France, United States, Belgium, Luxembourg, China, Germany\", \"United Kingdom, Germany, Canada\", \"United Kingdom, Germany, Canada, United States\", \"United Kingdom, Germany, France, United States\", \"United Kingdom, Germany, Spain, United States\", \"United Kingdom, Germany, United Arab Emirates, New Zealand\", \"United Kingdom, Germany, United States, France\", \"United Kingdom, Hong Kong\", \"United Kingdom, Hungary, Australia\", \"United Kingdom, India, Sweden\", \"United Kingdom, Ireland, United States\", \"United Kingdom, Israel, Russia\", \"United Kingdom, Italy, Israel, Peru, United States\", \"United Kingdom, Japan\", \"United Kingdom, Thailand\", \"United Kingdom, United States, Canada\", \"United States, Czech Republic, United Kingdom\", \"United States, Canada, Indonesia, United Kingdom, China, Singapore\", \"United States, Brazil, South Korea, Mexico, Japan, Germany\", \"United States, Cambodia\", \"United States, Cambodia, Romania\", \"United States, Canada, Belgium, United Kingdom\", \"United States, Canada, China\", \"United States, Canada, France\", \"United States, Canada, Germany\", \"United States, Canada, Ireland\", \"United Kingdom, United States, Czech Republic\", \"United States, Canada, Japan, Panama\", \"United States, Canada, United Kingdom\", \"United States, Chile, Israel\", \"United States, China, Canada\", \"United States, China, Colombia\", \"United States, China, United Kingdom\", \"United States, Colombia, Mexico\", \"United States, Brazil, Japan, Spain, India\", \"United States, Brazil, India, Uganda, China\", \"United States, Brazil\", \"United States, Botswana\", \"United Kingdom, United States, Dominican Republic\", \"United Kingdom, United States, France, Germany\", \"United Kingdom, United States, France, Italy\", \"United Kingdom, United States, Germany, Denmark, Belgium, Japan\", \"United Kingdom, United States, Ireland\", \"United Kingdom, United States, Japan\", \"United Kingdom, United States, Morocco\", \"United Kingdom, West Germany\", \"United States,\", \"United States, Australia, China\", \"United States, Australia, Mexico\", \"United States, Australia, Samoa, United Kingdom\", \"United States, Australia, South Africa, United Kingdom\", \"United States, Belgium, Canada, France\", \"United States, Bermuda, Ecuador\", \"South Africa, Angola\", \"Norway, Germany\", \"Somalia, Kenya, Sudan, South Africa, United States\", \"France, United Kingdom, India\", \"Denmark, France, Poland\", \"Denmark, France, United States, Sweden\", \"Denmark, Germany, Belgium, United Kingdom, France\", \"Denmark, Germany, Belgium, United Kingdom, France, Sweden\", \"Denmark, Indonesia, Finland, Norway, United Kingdom, Israel, France, United States, Germany, Netherlands\", \"Denmark, Singapore, Canada, United States\", \"Denmark, Spain\", \"Denmark, Sweden, Israel, United States\", \"Denmark, United Kingdom, South Africa, Sweden, Belgium\", \"Denmark, United Kingdom, Sweden\", \"Denmark, Zimbabwe\", \"Egypt, Algeria\", \"Egypt, Austria, United States\", \"Egypt, Denmark, Germany\", \"Egypt, Saudi Arabia\", \"Finland\", \"Finland, France\", \"Denmark, France, Belgium, Italy, Netherlands, United States, United Kingdom\", \"Denmark, China\", \"Denmark, Brazil, France, Portugal, Sweden\", \"Colombia, Mexico\", \"China, Japan\", \"China, Morocco, Hong Kong\", \"China, South Korea, United States\", \"China, Spain, South Korea, United States\", \"China, United States, Australia\", \"China, United States, Canada\", \"China, United States, United Kingdom\", \"Colombia, Peru, United Kingdom\", \"Czech Republic, United Kingdom, United States\", \"Colombia, United States\", \"Croatia\", \"Croatia, Slovenia, Serbia, Montenegro\", \"Cyprus\", \"Czech Republic, France\", \"Czech Republic, Slovakia\", \"Czech Republic, United Kingdom, France\", \"Finland, Germany\", \"Finland, Germany, Belgium\", \"Finland, Sweden, Norway, Latvia, Germany\", \"France, Netherlands, Singapore\", \"France, Japan\", \"France, Lebanon\", \"France, Lebanon, United Kingdom\", \"France, Luxembourg, Canada\", \"France, Luxembourg, United States\", \"France, Malta, United States\", \"France, Morocco\", \"France, Netherlands, South Africa, Finland\", \"France, Iran, United States\", \"France, New Zealand\", \"France, Norway, Lebanon, Belgium\", \"France, Qatar\", \"France, Senegal, Belgium\", \"France, South Korea, Japan\", \"France, South Korea, Japan, United States\", \"France, Switzerland, Spain, United States, United Arab Emirates\", \"France, Israel, Germany, United States, United Kingdom\", \"France, Germany, Switzerland\", \"Finland, United States\", \"France, Belgium, United States\", \"France, Algeria\", \"France, Australia, Germany\", \"France, Belgium, China, United States\", \"France, Belgium, Italy\", \"France, Belgium, Luxembourg, Cambodia,\", \"France, Belgium, Luxembourg, Romania, Canada, United States\", \"France, Belgium, Spain\", \"France, Brazil, Spain, Belgium\", \"France, Germany, Czech Republic, Belgium\", \"France, Canada, Belgium\", \"France, Canada, China, Cambodia\", \"France, Canada, Italy, United States, China\", \"France, Canada, United States\", \"France, Canada, United States, Spain\", \"France, China, Japan, United States\", \"France, Germany\", \"China, India, Nepal\", \"China, Hong Kong, United States\", \"China, Germany, India, United States\", \"Belgium, Ireland, Netherlands, Germany, Afghanistan\", \"Australia, United Kingdom, United States, New Zealand, Italy, France\", \"Austria, Czech Republic\", \"Austria, Germany\", \"Austria, Iraq, United States\", \"Austria, United States\", \"Belarus\", \"Belgium, France, Netherlands\", \"Belgium, United Kingdom\", \"Australia, United Kingdom, Canada\", \"Belgium, United Kingdom, United States\", \"Brazil, France, Germany\", \"Brazil, India, China, United States\", \"Brazil, Netherlands, United States, Colombia, Austria, Germany\", \"Brazil, United Kingdom\", \"Brazil, United States\", \"Bulgaria\", \"Australia, United Kingdom, United Arab Emirates, Canada\", \"Australia, New Zealand, United States\", \"Cambodia\", \"Argentina, Uruguay, Serbia\", \"Argentina, Brazil, France, Poland, Germany, Denmark\", \"Argentina, Chile, Peru\", \"Argentina, France\", \"Argentina, France, United States, Germany, Qatar\", \"Argentina, Italy\", \"Argentina, United States\", \"Argentina, United States, Mexico\", \"Argentina, Uruguay, Spain, France\", \"Australia, New Zealand\", \"Argentina, Venezuela\", \"Australia, Armenia, Japan, Jordan, Mexico, Mongolia, New Zealand, Philippines, South Africa, Sweden, United States, Uruguay\", \"Australia, France\", \"Australia, France, Ireland\", \"Australia, Germany\", \"Australia, India\", \"Australia, Iraq\", \"Bulgaria, United States, Spain, Canada\", \"Cambodia, United States\", \"Chile, United States, France\", \"Canada, United States, Mexico\", \"Canada, Spain, France\", \"Canada, United Kingdom, Netherlands\", \"Canada, United States, Cayman Islands\", \"Canada, United States, Denmark\", \"Canada, United States, Germany\", \"Canada, United States, India, United Kingdom\", \"Canada, United States, Ireland\", \"Canada, United States, United Kingdom, France, Luxembourg\", \"Canada, South Korea, United States\", \"Chile, Argentina\", \"Chile, Argentina, France, Spain, United States\", \"Chile, Brazil\", \"Chile, France\", \"Chile, Italy\", \"Chile, Peru\", \"Chile, Spain, Argentina, Germany\", \"Canada, Spain\", \"Canada, Norway\", \"Cameroon\", \"Canada, Germany, South Africa\", \"Canada, Belgium\", \"Canada, Brazil\", \"Canada, France\", \"Canada, France, Italy, Morocco, United States\", \"Canada, France, United States\", \"Canada, Germany\", \"Canada, Germany, France, United States\", \"Canada, Hungary, United States\", \"Canada, Nigeria, United States\", \"Canada, India, Thailand, United States, United Arab Emirates\", \"Canada, Ireland, United States\", \"Canada, Japan, Netherlands\", \"Canada, Japan, United States\", \"Canada, Luxembourg\", \"Canada, Mexico, Germany, South Africa\", \"Canada, Nigeria\", \"France, United Kingdom\", \"France, United States, Canada\", \"Slovenia, Croatia, Germany, Czech Republic, Qatar\", \"France, United States, Mexico\", \"Mexico, Finland\", \"Mexico, France\", \"Mexico, France, Colombia\", \"Mexico, Netherlands\", \"Mexico, United States, Spain, Colombia\", \"Mozambique\", \"Namibia\", \"Netherlands, Belgium, Germany, Jordan\", \"Netherlands, Belgium, United Kingdom, United States\", \"Netherlands, Denmark, France, Germany\", \"Netherlands, Denmark, South Africa\", \"Netherlands, Germany, Denmark, United Kingdom\", \"Netherlands, Germany, Italy, Canada\", \"Netherlands, United States\", \"New Zealand, Australia, France, United States\", \"New Zealand, United Kingdom\", \"New Zealand, United Kingdom, Australia\", \"Mexico, Brazil\", \"Mexico, Argentina\", \"Mauritius, South Africa\", \"Lebanon, France\", \"Italy, United Kingdom, France\", \"Italy, United States, Argentina\", \"Jamaica, United States\", \"Japan, Canada\", \"Japan, Canada, United States\", \"Kenya, United States\", \"Kuwait, United States\", \"Lebanon, Palestine, Denmark, Qatar\", \"Mauritius\", \"Lebanon, Qatar\", \"Lebanon, Syria\", \"Lebanon, United Arab Emirates\", \"Lebanon, United Arab Emirates, France, Switzerland, Germany\", \"Lebanon, United States, United Arab Emirates\", \"Luxembourg\", \"Malaysia, Singapore, Hong Kong\", \"Nigeria, United Kingdom\", \"Norway, Denmark\", \"Norway, Denmark, Netherlands, Sweden\", \"Russia, United States, China\", \"Romania, Bulgaria, Hungary\", \"Romania, France, Switzerland, Germany\", \"Romania, United Kingdom\", \"Romania, United States\", \"Russia, Poland, Serbia\", \"Russia, Spain\", \"Russia, United States\", \"Saudi Arabia, Netherlands, Germany, Jordan, United Arab Emirates, United States\", \"Portugal, United States\", \"Saudi Arabia, Syria, Egypt, Lebanon, Kuwait\", \"Saudi Arabia, United Arab Emirates\", \"Senegal\", \"Serbia, South Korea, Slovenia\", \"Singapore, France\", \"Singapore, Japan, France\", \"Singapore, Malaysia\", \"Puerto Rico, United States, Colombia\", \"Portugal, France, Poland, United States\", \"Norway, Denmark, Sweden\", \"Paraguay, Argentina\", \", South Korea\", \"Norway, Germany, Sweden\", \"Norway, Sweden\", \"Norway, United Kingdom, France, Ireland\", \"Norway, United States\", \"Pakistan, Norway, United States\", \"Pakistan, United Arab Emirates\", \"Peru, Germany, Norway\", \"Poland, West Germany\", \"Peru, United States, United Kingdom\", \"Philippines, Canada, United Kingdom, United States\", \"Philippines, Qatar\", \"Philippines, Singapore\", \"Philippines, Singapore, Indonesia\", \"Philippines, United States\", \"Poland,\", \"Italy, United Kingdom\", \"Italy, Turkey\", \"Italy, Switzerland, France, Germany\", \"Hong Kong, Iceland, United States\", \"Germany, United States, Sweden\", \"Germany, United States, United Kingdom, Canada\", \"Ghana, United States\", \"Greece, United States\", \"Guatemala\", \"Hong Kong, Canada, United States\", \"Hong Kong, China, Singapore\", \"Hong Kong, Taiwan\", \"Germany, United States, Hong Kong, Singapore\", \"Hungary, United States\", \"Iceland, Sweden, Belgium\", \"India, Australia\", \"India, Canada\", \"India, Germany, Austria\", \"India, Germany, France\", \"India, Iran\", \"Germany, United States, Italy\", \"Germany, United States, France\", \"India, Malaysia\", \"Germany, China, United Kingdom\", \"France, United States, United Kingdom, Canada\", \"Georgia\", \"Georgia, Germany, France\", \"Germany, Australia\", \"Germany, Australia, France, China\", \"Germany, Belgium\", \"Germany, Canada, United States\", \"Germany, France\", \"Germany, United States, Canada\", \"Germany, France, Luxembourg, United Kingdom, United States\", \"Germany, France, Russia\", \"Germany, France, United States, Canada, United Kingdom\", \"Germany, Italy\", \"Germany, Jordan, Netherlands\", \"Germany, Sri Lanka\", \"Germany, United Kingdom, United States\", \"India, Japan\", \"India, Mexico\", \"Italy, Switzerland, Albania, Poland\", \"Israel, Germany, Poland, Luxembourg, Belgium, France, United States\", \"Ireland, United Kingdom, Greece, France, Netherlands\", \"Ireland, United Kingdom, Italy, United States\", \"Ireland, United States\", \"Ireland, United States, France\", \"Ireland, United States, United Kingdom\", \"Israel, Germany\", \"Israel, Germany, France\", \"Israel, Sweden, Germany, Netherlands\", \"Ireland, Switzerland, United Kingdom, France, United States\", \"Italy, Belgium\", \"Italy, Brazil, Greece\", \"Italy, Canada, France\", \"Italy, France, Switzerland\", \"Italy, Germany\", \"Italy, India\", \"Italy, South Africa, West Germany, Australia, United States\", \"Ireland, United Kingdom, France, Germany\", \"Ireland, South Africa\", \"India, Nepal\", \"Indonesia, South Korea, Singapore\", \"India, Pakistan\", \"India, Switzerland\", \"India, Turkey\", \"India, United Kingdom, Canada, United States\", \"India, United Kingdom, China, Canada, Japan, South Korea, United States\", \"India, United Kingdom, France, Qatar\", \"Indonesia, Netherlands\", \"Indonesia, United Kingdom\", \"Ireland, Luxembourg, Belgium\", \"Indonesia, United States\", \"Iran, France\", \"Ireland, Canada\", \"Ireland, Canada, Luxembourg, United States, United Kingdom, Philippines, India\", \"Ireland, Canada, United Kingdom, United States\", \"Ireland, Canada, United States, United Kingdom\", \"Ireland, France, Iceland, United States, Mexico, Belgium, United Kingdom, Hong Kong\", \"Zimbabwe\"], \"xaxis\": \"x\", \"y\": [2818, 972, 419, 245, 199, 181, 145, 124, 110, 106, 105, 95, 87, 81, 79, 77, 75, 75, 73, 67, 66, 61, 56, 53, 47, 45, 45, 35, 30, 27, 24, 23, 22, 19, 18, 17, 16, 16, 16, 15, 15, 14, 14, 14, 14, 13, 13, 13, 13, 13, 13, 12, 12, 11, 11, 10, 10, 10, 9, 9, 8, 8, 8, 8, 7, 7, 6, 6, 6, 6, 5, 5, 5, 5, 5, 5, 5, 5, 5, 4, 4, 4, 4, 4, 4, 4, 4, 4, 4, 4, 4, 4, 4, 4, 4, 4, 3, 3, 3, 3, 3, 3, 3, 3, 3, 3, 3, 3, 3, 3, 3, 3, 3, 3, 3, 3, 3, 3, 3, 3, 3, 2, 2, 2, 2, 2, 2, 2, 2, 2, 2, 2, 2, 2, 2, 2, 2, 2, 2, 2, 2, 2, 2, 2, 2, 2, 2, 2, 2, 2, 2, 2, 2, 2, 2, 2, 2, 2, 2, 2, 2, 2, 2, 2, 2, 2, 2, 2, 2, 2, 2, 2, 2, 2, 2, 2, 2, 2, 2, 2, 2, 2, 2, 2, 2, 1, 1, 1, 1, 1, 1, 1, 1, 1, 1, 1, 1, 1, 1, 1, 1, 1, 1, 1, 1, 1, 1, 1, 1, 1, 1, 1, 1, 1, 1, 1, 1, 1, 1, 1, 1, 1, 1, 1, 1, 1, 1, 1, 1, 1, 1, 1, 1, 1, 1, 1, 1, 1, 1, 1, 1, 1, 1, 1, 1, 1, 1, 1, 1, 1, 1, 1, 1, 1, 1, 1, 1, 1, 1, 1, 1, 1, 1, 1, 1, 1, 1, 1, 1, 1, 1, 1, 1, 1, 1, 1, 1, 1, 1, 1, 1, 1, 1, 1, 1, 1, 1, 1, 1, 1, 1, 1, 1, 1, 1, 1, 1, 1, 1, 1, 1, 1, 1, 1, 1, 1, 1, 1, 1, 1, 1, 1, 1, 1, 1, 1, 1, 1, 1, 1, 1, 1, 1, 1, 1, 1, 1, 1, 1, 1, 1, 1, 1, 1, 1, 1, 1, 1, 1, 1, 1, 1, 1, 1, 1, 1, 1, 1, 1, 1, 1, 1, 1, 1, 1, 1, 1, 1, 1, 1, 1, 1, 1, 1, 1, 1, 1, 1, 1, 1, 1, 1, 1, 1, 1, 1, 1, 1, 1, 1, 1, 1, 1, 1, 1, 1, 1, 1, 1, 1, 1, 1, 1, 1, 1, 1, 1, 1, 1, 1, 1, 1, 1, 1, 1, 1, 1, 1, 1, 1, 1, 1, 1, 1, 1, 1, 1, 1, 1, 1, 1, 1, 1, 1, 1, 1, 1, 1, 1, 1, 1, 1, 1, 1, 1, 1, 1, 1, 1, 1, 1, 1, 1, 1, 1, 1, 1, 1, 1, 1, 1, 1, 1, 1, 1, 1, 1, 1, 1, 1, 1, 1, 1, 1, 1, 1, 1, 1, 1, 1, 1, 1, 1, 1, 1, 1, 1, 1, 1, 1, 1, 1, 1, 1, 1, 1, 1, 1, 1, 1, 1, 1, 1, 1, 1, 1, 1, 1, 1, 1, 1, 1, 1, 1, 1, 1, 1, 1, 1, 1, 1, 1, 1, 1, 1, 1, 1, 1, 1, 1, 1, 1, 1, 1, 1, 1, 1, 1, 1, 1, 1, 1, 1, 1, 1, 1, 1, 1, 1, 1, 1, 1, 1, 1, 1, 1, 1, 1, 1, 1, 1, 1, 1, 1, 1, 1, 1, 1, 1, 1, 1, 1, 1, 1, 1, 1, 1, 1, 1, 1, 1, 1, 1, 1, 1, 1, 1, 1, 1, 1, 1, 1, 1, 1, 1, 1, 1, 1, 1, 1, 1, 1, 1, 1, 1, 1, 1, 1, 1, 1, 1, 1, 1, 1, 1, 1, 1, 1, 1, 1, 1, 1, 1, 1, 1, 1, 1, 1, 1, 1, 1, 1, 1, 1, 1, 1, 1, 1, 1, 1, 1, 1, 1, 1, 1, 1, 1, 1, 1, 1, 1, 1, 1, 1, 1, 1, 1, 1, 1, 1, 1, 1, 1, 1, 1, 1, 1, 1, 1, 1, 1, 1, 1, 1, 1, 1, 1, 1, 1, 1, 1, 1, 1, 1, 1, 1, 1, 1, 1, 1, 1, 1, 1, 1, 1, 1, 1, 1, 1, 1, 1, 1, 1, 1, 1, 1, 1, 1, 1, 1, 1, 1, 1, 1, 1, 1, 1, 1, 1, 1, 1, 1, 1, 1, 1, 1, 1, 1, 1, 1, 1, 1, 1, 1, 1, 1, 1, 1, 1, 1, 1, 1, 1, 1, 1, 1, 1, 1, 1, 1, 1, 1, 1, 1, 1, 1, 1, 1], \"yaxis\": \"y\"}],\n",
       "                        {\"barmode\": \"relative\", \"legend\": {\"tracegroupgap\": 0}, \"margin\": {\"t\": 60}, \"template\": {\"data\": {\"bar\": [{\"error_x\": {\"color\": \"#2a3f5f\"}, \"error_y\": {\"color\": \"#2a3f5f\"}, \"marker\": {\"line\": {\"color\": \"#E5ECF6\", \"width\": 0.5}}, \"type\": \"bar\"}], \"barpolar\": [{\"marker\": {\"line\": {\"color\": \"#E5ECF6\", \"width\": 0.5}}, \"type\": \"barpolar\"}], \"carpet\": [{\"aaxis\": {\"endlinecolor\": \"#2a3f5f\", \"gridcolor\": \"white\", \"linecolor\": \"white\", \"minorgridcolor\": \"white\", \"startlinecolor\": \"#2a3f5f\"}, \"baxis\": {\"endlinecolor\": \"#2a3f5f\", \"gridcolor\": \"white\", \"linecolor\": \"white\", \"minorgridcolor\": \"white\", \"startlinecolor\": \"#2a3f5f\"}, \"type\": \"carpet\"}], \"choropleth\": [{\"colorbar\": {\"outlinewidth\": 0, \"ticks\": \"\"}, \"type\": \"choropleth\"}], \"contour\": [{\"colorbar\": {\"outlinewidth\": 0, \"ticks\": \"\"}, \"colorscale\": [[0.0, \"#0d0887\"], [0.1111111111111111, \"#46039f\"], [0.2222222222222222, \"#7201a8\"], [0.3333333333333333, \"#9c179e\"], [0.4444444444444444, \"#bd3786\"], [0.5555555555555556, \"#d8576b\"], [0.6666666666666666, \"#ed7953\"], [0.7777777777777778, \"#fb9f3a\"], [0.8888888888888888, \"#fdca26\"], [1.0, \"#f0f921\"]], \"type\": \"contour\"}], \"contourcarpet\": [{\"colorbar\": {\"outlinewidth\": 0, \"ticks\": \"\"}, \"type\": \"contourcarpet\"}], \"heatmap\": [{\"colorbar\": {\"outlinewidth\": 0, \"ticks\": \"\"}, \"colorscale\": [[0.0, \"#0d0887\"], [0.1111111111111111, \"#46039f\"], [0.2222222222222222, \"#7201a8\"], [0.3333333333333333, \"#9c179e\"], [0.4444444444444444, \"#bd3786\"], [0.5555555555555556, \"#d8576b\"], [0.6666666666666666, \"#ed7953\"], [0.7777777777777778, \"#fb9f3a\"], [0.8888888888888888, \"#fdca26\"], [1.0, \"#f0f921\"]], \"type\": \"heatmap\"}], \"heatmapgl\": [{\"colorbar\": {\"outlinewidth\": 0, \"ticks\": \"\"}, \"colorscale\": [[0.0, \"#0d0887\"], [0.1111111111111111, \"#46039f\"], [0.2222222222222222, \"#7201a8\"], [0.3333333333333333, \"#9c179e\"], [0.4444444444444444, \"#bd3786\"], [0.5555555555555556, \"#d8576b\"], [0.6666666666666666, \"#ed7953\"], [0.7777777777777778, \"#fb9f3a\"], [0.8888888888888888, \"#fdca26\"], [1.0, \"#f0f921\"]], \"type\": \"heatmapgl\"}], \"histogram\": [{\"marker\": {\"colorbar\": {\"outlinewidth\": 0, \"ticks\": \"\"}}, \"type\": \"histogram\"}], \"histogram2d\": [{\"colorbar\": {\"outlinewidth\": 0, \"ticks\": \"\"}, \"colorscale\": [[0.0, \"#0d0887\"], [0.1111111111111111, \"#46039f\"], [0.2222222222222222, \"#7201a8\"], [0.3333333333333333, \"#9c179e\"], [0.4444444444444444, \"#bd3786\"], [0.5555555555555556, \"#d8576b\"], [0.6666666666666666, \"#ed7953\"], [0.7777777777777778, \"#fb9f3a\"], [0.8888888888888888, \"#fdca26\"], [1.0, \"#f0f921\"]], \"type\": \"histogram2d\"}], \"histogram2dcontour\": [{\"colorbar\": {\"outlinewidth\": 0, \"ticks\": \"\"}, \"colorscale\": [[0.0, \"#0d0887\"], [0.1111111111111111, \"#46039f\"], [0.2222222222222222, \"#7201a8\"], [0.3333333333333333, \"#9c179e\"], [0.4444444444444444, \"#bd3786\"], [0.5555555555555556, \"#d8576b\"], [0.6666666666666666, \"#ed7953\"], [0.7777777777777778, \"#fb9f3a\"], [0.8888888888888888, \"#fdca26\"], [1.0, \"#f0f921\"]], \"type\": \"histogram2dcontour\"}], \"mesh3d\": [{\"colorbar\": {\"outlinewidth\": 0, \"ticks\": \"\"}, \"type\": \"mesh3d\"}], \"parcoords\": [{\"line\": {\"colorbar\": {\"outlinewidth\": 0, \"ticks\": \"\"}}, \"type\": \"parcoords\"}], \"pie\": [{\"automargin\": true, \"type\": \"pie\"}], \"scatter\": [{\"marker\": {\"colorbar\": {\"outlinewidth\": 0, \"ticks\": \"\"}}, \"type\": \"scatter\"}], \"scatter3d\": [{\"line\": {\"colorbar\": {\"outlinewidth\": 0, \"ticks\": \"\"}}, \"marker\": {\"colorbar\": {\"outlinewidth\": 0, \"ticks\": \"\"}}, \"type\": \"scatter3d\"}], \"scattercarpet\": [{\"marker\": {\"colorbar\": {\"outlinewidth\": 0, \"ticks\": \"\"}}, \"type\": \"scattercarpet\"}], \"scattergeo\": [{\"marker\": {\"colorbar\": {\"outlinewidth\": 0, \"ticks\": \"\"}}, \"type\": \"scattergeo\"}], \"scattergl\": [{\"marker\": {\"colorbar\": {\"outlinewidth\": 0, \"ticks\": \"\"}}, \"type\": \"scattergl\"}], \"scattermapbox\": [{\"marker\": {\"colorbar\": {\"outlinewidth\": 0, \"ticks\": \"\"}}, \"type\": \"scattermapbox\"}], \"scatterpolar\": [{\"marker\": {\"colorbar\": {\"outlinewidth\": 0, \"ticks\": \"\"}}, \"type\": \"scatterpolar\"}], \"scatterpolargl\": [{\"marker\": {\"colorbar\": {\"outlinewidth\": 0, \"ticks\": \"\"}}, \"type\": \"scatterpolargl\"}], \"scatterternary\": [{\"marker\": {\"colorbar\": {\"outlinewidth\": 0, \"ticks\": \"\"}}, \"type\": \"scatterternary\"}], \"surface\": [{\"colorbar\": {\"outlinewidth\": 0, \"ticks\": \"\"}, \"colorscale\": [[0.0, \"#0d0887\"], [0.1111111111111111, \"#46039f\"], [0.2222222222222222, \"#7201a8\"], [0.3333333333333333, \"#9c179e\"], [0.4444444444444444, \"#bd3786\"], [0.5555555555555556, \"#d8576b\"], [0.6666666666666666, \"#ed7953\"], [0.7777777777777778, \"#fb9f3a\"], [0.8888888888888888, \"#fdca26\"], [1.0, \"#f0f921\"]], \"type\": \"surface\"}], \"table\": [{\"cells\": {\"fill\": {\"color\": \"#EBF0F8\"}, \"line\": {\"color\": \"white\"}}, \"header\": {\"fill\": {\"color\": \"#C8D4E3\"}, \"line\": {\"color\": \"white\"}}, \"type\": \"table\"}]}, \"layout\": {\"annotationdefaults\": {\"arrowcolor\": \"#2a3f5f\", \"arrowhead\": 0, \"arrowwidth\": 1}, \"coloraxis\": {\"colorbar\": {\"outlinewidth\": 0, \"ticks\": \"\"}}, \"colorscale\": {\"diverging\": [[0, \"#8e0152\"], [0.1, \"#c51b7d\"], [0.2, \"#de77ae\"], [0.3, \"#f1b6da\"], [0.4, \"#fde0ef\"], [0.5, \"#f7f7f7\"], [0.6, \"#e6f5d0\"], [0.7, \"#b8e186\"], [0.8, \"#7fbc41\"], [0.9, \"#4d9221\"], [1, \"#276419\"]], \"sequential\": [[0.0, \"#0d0887\"], [0.1111111111111111, \"#46039f\"], [0.2222222222222222, \"#7201a8\"], [0.3333333333333333, \"#9c179e\"], [0.4444444444444444, \"#bd3786\"], [0.5555555555555556, \"#d8576b\"], [0.6666666666666666, \"#ed7953\"], [0.7777777777777778, \"#fb9f3a\"], [0.8888888888888888, \"#fdca26\"], [1.0, \"#f0f921\"]], \"sequentialminus\": [[0.0, \"#0d0887\"], [0.1111111111111111, \"#46039f\"], [0.2222222222222222, \"#7201a8\"], [0.3333333333333333, \"#9c179e\"], [0.4444444444444444, \"#bd3786\"], [0.5555555555555556, \"#d8576b\"], [0.6666666666666666, \"#ed7953\"], [0.7777777777777778, \"#fb9f3a\"], [0.8888888888888888, \"#fdca26\"], [1.0, \"#f0f921\"]]}, \"colorway\": [\"#636efa\", \"#EF553B\", \"#00cc96\", \"#ab63fa\", \"#FFA15A\", \"#19d3f3\", \"#FF6692\", \"#B6E880\", \"#FF97FF\", \"#FECB52\"], \"font\": {\"color\": \"#2a3f5f\"}, \"geo\": {\"bgcolor\": \"white\", \"lakecolor\": \"white\", \"landcolor\": \"#E5ECF6\", \"showlakes\": true, \"showland\": true, \"subunitcolor\": \"white\"}, \"hoverlabel\": {\"align\": \"left\"}, \"hovermode\": \"closest\", \"mapbox\": {\"style\": \"light\"}, \"paper_bgcolor\": \"white\", \"plot_bgcolor\": \"#E5ECF6\", \"polar\": {\"angularaxis\": {\"gridcolor\": \"white\", \"linecolor\": \"white\", \"ticks\": \"\"}, \"bgcolor\": \"#E5ECF6\", \"radialaxis\": {\"gridcolor\": \"white\", \"linecolor\": \"white\", \"ticks\": \"\"}}, \"scene\": {\"xaxis\": {\"backgroundcolor\": \"#E5ECF6\", \"gridcolor\": \"white\", \"gridwidth\": 2, \"linecolor\": \"white\", \"showbackground\": true, \"ticks\": \"\", \"zerolinecolor\": \"white\"}, \"yaxis\": {\"backgroundcolor\": \"#E5ECF6\", \"gridcolor\": \"white\", \"gridwidth\": 2, \"linecolor\": \"white\", \"showbackground\": true, \"ticks\": \"\", \"zerolinecolor\": \"white\"}, \"zaxis\": {\"backgroundcolor\": \"#E5ECF6\", \"gridcolor\": \"white\", \"gridwidth\": 2, \"linecolor\": \"white\", \"showbackground\": true, \"ticks\": \"\", \"zerolinecolor\": \"white\"}}, \"shapedefaults\": {\"line\": {\"color\": \"#2a3f5f\"}}, \"ternary\": {\"aaxis\": {\"gridcolor\": \"white\", \"linecolor\": \"white\", \"ticks\": \"\"}, \"baxis\": {\"gridcolor\": \"white\", \"linecolor\": \"white\", \"ticks\": \"\"}, \"bgcolor\": \"#E5ECF6\", \"caxis\": {\"gridcolor\": \"white\", \"linecolor\": \"white\", \"ticks\": \"\"}}, \"title\": {\"x\": 0.05}, \"xaxis\": {\"automargin\": true, \"gridcolor\": \"white\", \"linecolor\": \"white\", \"ticks\": \"\", \"title\": {\"standoff\": 15}, \"zerolinecolor\": \"white\", \"zerolinewidth\": 2}, \"yaxis\": {\"automargin\": true, \"gridcolor\": \"white\", \"linecolor\": \"white\", \"ticks\": \"\", \"title\": {\"standoff\": 15}, \"zerolinecolor\": \"white\", \"zerolinewidth\": 2}}}, \"xaxis\": {\"anchor\": \"y\", \"domain\": [0.0, 1.0], \"title\": {\"text\": \"country\"}}, \"yaxis\": {\"anchor\": \"x\", \"domain\": [0.0, 1.0], \"title\": {\"text\": \"sum of amount_of_shows\"}}},\n",
       "                        {\"responsive\": true}\n",
       "                    ).then(function(){\n",
       "                            \n",
       "var gd = document.getElementById('9f24f34b-89e6-4697-aa72-9b5d74a031b5');\n",
       "var x = new MutationObserver(function (mutations, observer) {{\n",
       "        var display = window.getComputedStyle(gd).display;\n",
       "        if (!display || display === 'none') {{\n",
       "            console.log([gd, 'removed!']);\n",
       "            Plotly.purge(gd);\n",
       "            observer.disconnect();\n",
       "        }}\n",
       "}});\n",
       "\n",
       "// Listen for the removal of the full notebook cells\n",
       "var notebookContainer = gd.closest('#notebook-container');\n",
       "if (notebookContainer) {{\n",
       "    x.observe(notebookContainer, {childList: true});\n",
       "}}\n",
       "\n",
       "// Listen for the clearing of the current output cell\n",
       "var outputEl = gd.closest('.output');\n",
       "if (outputEl) {{\n",
       "    x.observe(outputEl, {childList: true});\n",
       "}}\n",
       "\n",
       "                        })\n",
       "                };\n",
       "                });\n",
       "            </script>\n",
       "        </div>"
      ]
     },
     "metadata": {},
     "output_type": "display_data"
    }
   ],
   "source": [
    "fig = px.histogram(shows_by_countries, x=\"country\", y='amount_of_shows')\n",
    "fig.show()"
   ]
  },
  {
   "cell_type": "code",
   "execution_count": null,
   "metadata": {},
   "outputs": [],
   "source": []
  },
  {
   "cell_type": "code",
   "execution_count": null,
   "metadata": {},
   "outputs": [],
   "source": []
  },
  {
   "cell_type": "code",
   "execution_count": null,
   "metadata": {},
   "outputs": [],
   "source": []
  },
  {
   "cell_type": "code",
   "execution_count": null,
   "metadata": {},
   "outputs": [],
   "source": []
  },
  {
   "cell_type": "code",
   "execution_count": null,
   "metadata": {},
   "outputs": [],
   "source": []
  },
  {
   "cell_type": "code",
   "execution_count": null,
   "metadata": {},
   "outputs": [],
   "source": []
  },
  {
   "cell_type": "code",
   "execution_count": null,
   "metadata": {},
   "outputs": [],
   "source": []
  },
  {
   "cell_type": "code",
   "execution_count": null,
   "metadata": {},
   "outputs": [],
   "source": []
  },
  {
   "cell_type": "code",
   "execution_count": null,
   "metadata": {},
   "outputs": [],
   "source": []
  },
  {
   "cell_type": "code",
   "execution_count": null,
   "metadata": {},
   "outputs": [],
   "source": []
  },
  {
   "cell_type": "code",
   "execution_count": null,
   "metadata": {},
   "outputs": [],
   "source": []
  },
  {
   "cell_type": "code",
   "execution_count": null,
   "metadata": {},
   "outputs": [],
   "source": []
  },
  {
   "cell_type": "code",
   "execution_count": null,
   "metadata": {},
   "outputs": [],
   "source": []
  },
  {
   "cell_type": "code",
   "execution_count": null,
   "metadata": {},
   "outputs": [],
   "source": []
  },
  {
   "cell_type": "code",
   "execution_count": null,
   "metadata": {},
   "outputs": [],
   "source": []
  },
  {
   "cell_type": "code",
   "execution_count": null,
   "metadata": {},
   "outputs": [],
   "source": []
  },
  {
   "cell_type": "code",
   "execution_count": null,
   "metadata": {},
   "outputs": [],
   "source": []
  },
  {
   "cell_type": "code",
   "execution_count": null,
   "metadata": {},
   "outputs": [],
   "source": []
  },
  {
   "cell_type": "code",
   "execution_count": null,
   "metadata": {},
   "outputs": [],
   "source": []
  },
  {
   "cell_type": "code",
   "execution_count": null,
   "metadata": {},
   "outputs": [],
   "source": []
  },
  {
   "cell_type": "code",
   "execution_count": null,
   "metadata": {},
   "outputs": [],
   "source": []
  },
  {
   "cell_type": "code",
   "execution_count": null,
   "metadata": {},
   "outputs": [],
   "source": []
  },
  {
   "cell_type": "code",
   "execution_count": null,
   "metadata": {},
   "outputs": [],
   "source": []
  }
 ],
 "metadata": {
  "kernelspec": {
   "display_name": "Python 3",
   "language": "python",
   "name": "python3"
  },
  "language_info": {
   "codemirror_mode": {
    "name": "ipython",
    "version": 3
   },
   "file_extension": ".py",
   "mimetype": "text/x-python",
   "name": "python",
   "nbconvert_exporter": "python",
   "pygments_lexer": "ipython3",
   "version": "3.7.3"
  }
 },
 "nbformat": 4,
 "nbformat_minor": 4
}
